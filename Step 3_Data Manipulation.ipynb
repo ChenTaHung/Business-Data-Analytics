{
 "cells": [
  {
   "cell_type": "code",
   "execution_count": 1,
   "metadata": {},
   "outputs": [
    {
     "data": {
      "text/html": [
       "<style type='text/css'>\n",
       ".datatable table.frame { margin-bottom: 0; }\n",
       ".datatable table.frame thead { border-bottom: none; }\n",
       ".datatable table.frame tr.coltypes td {  color: #FFFFFF;  line-height: 6px;  padding: 0 0.5em;}\n",
       ".datatable .boolean { background: #DDDD99; }\n",
       ".datatable .object  { background: #565656; }\n",
       ".datatable .integer { background: #5D9E5D; }\n",
       ".datatable .float   { background: #4040CC; }\n",
       ".datatable .string  { background: #CC4040; }\n",
       ".datatable .row_index {  background: var(--jp-border-color3);  border-right: 1px solid var(--jp-border-color0);  color: var(--jp-ui-font-color3);  font-size: 9px;}\n",
       ".datatable .frame tr.coltypes .row_index {  background: var(--jp-border-color0);}\n",
       ".datatable th:nth-child(2) { padding-left: 12px; }\n",
       ".datatable .hellipsis {  color: var(--jp-cell-editor-border-color);}\n",
       ".datatable .vellipsis {  background: var(--jp-layout-color0);  color: var(--jp-cell-editor-border-color);}\n",
       ".datatable .na {  color: var(--jp-cell-editor-border-color);  font-size: 80%;}\n",
       ".datatable .footer { font-size: 9px; }\n",
       ".datatable .frame_dimensions {  background: var(--jp-border-color3);  border-top: 1px solid var(--jp-border-color0);  color: var(--jp-ui-font-color3);  display: inline-block;  opacity: 0.6;  padding: 1px 10px 1px 5px;}\n",
       "</style>\n"
      ],
      "text/plain": [
       "<IPython.core.display.HTML object>"
      ]
     },
     "metadata": {},
     "output_type": "display_data"
    }
   ],
   "source": [
    "import pandas as pd\n",
    "import numpy as np\n",
    "import datatable as dt\n",
    "import matplotlib.pyplot as plt\n",
    "import seaborn as sns"
   ]
  },
  {
   "cell_type": "code",
   "execution_count": 2,
   "metadata": {},
   "outputs": [],
   "source": [
    "Data = dt.fread(\"/Users/user/Desktop/自動化/UKCars_var_select.csv\").to_pandas()"
   ]
  },
  {
   "cell_type": "code",
   "execution_count": 3,
   "metadata": {
    "scrolled": true
   },
   "outputs": [
    {
     "data": {
      "text/html": [
       "<div>\n",
       "<style scoped>\n",
       "    .dataframe tbody tr th:only-of-type {\n",
       "        vertical-align: middle;\n",
       "    }\n",
       "\n",
       "    .dataframe tbody tr th {\n",
       "        vertical-align: top;\n",
       "    }\n",
       "\n",
       "    .dataframe thead th {\n",
       "        text-align: right;\n",
       "    }\n",
       "</style>\n",
       "<table border=\"1\" class=\"dataframe\">\n",
       "  <thead>\n",
       "    <tr style=\"text-align: right;\">\n",
       "      <th></th>\n",
       "      <th>Day_of_Week</th>\n",
       "      <th>1st_Road_Class</th>\n",
       "      <th>Road_Type</th>\n",
       "      <th>Vehicle_Location-Restricted_Lane</th>\n",
       "      <th>Junction_Detail</th>\n",
       "      <th>Was_Vehicle_Left_Hand_Drive?</th>\n",
       "      <th>Pedestrian_Crossing-Physical_Facilities</th>\n",
       "      <th>Light_Conditions</th>\n",
       "      <th>Weather_Conditions</th>\n",
       "      <th>Road_Surface_Conditions</th>\n",
       "      <th>Special_Conditions_at_Site</th>\n",
       "      <th>Carriageway_Hazards</th>\n",
       "      <th>Journey_Purpose_of_Driver</th>\n",
       "      <th>Urban_or_Rural_Area</th>\n",
       "      <th>Did_Police_Officer_Attend_Scene_of_Accident</th>\n",
       "      <th>Casualty_Class</th>\n",
       "      <th>Sex_of_Casualty</th>\n",
       "      <th>Age_Band_of_Casualty</th>\n",
       "      <th>Casualty_Type</th>\n",
       "      <th>Pedestrian_Crossing-Human_Control</th>\n",
       "      <th>Pedestrian_Location</th>\n",
       "      <th>Pedestrian_Movement</th>\n",
       "      <th>Casualty_Home_Area_Type</th>\n",
       "      <th>Vehicle_Type</th>\n",
       "      <th>Towing_and_Articulation</th>\n",
       "      <th>Vehicle_Manoeuvre</th>\n",
       "      <th>Junction_Location</th>\n",
       "      <th>Skidding_and_Overturning</th>\n",
       "      <th>Hit_Object_in_Carriageway</th>\n",
       "      <th>1st_Point_of_Impact</th>\n",
       "      <th>Sex_of_Driver</th>\n",
       "      <th>Age_Band_of_Driver</th>\n",
       "      <th>Driver_Home_Area_Type</th>\n",
       "      <th>LuckyOrNot</th>\n",
       "      <th>Number_of_Vehicles</th>\n",
       "      <th>Number_of_Casualties</th>\n",
       "      <th>Speed_limit</th>\n",
       "      <th>Age_of_Casualty</th>\n",
       "      <th>Car_Passenger</th>\n",
       "      <th>Bus_or_Coach_Passenger</th>\n",
       "      <th>Age_of_Driver</th>\n",
       "      <th>Engine_Capacity_(CC)</th>\n",
       "      <th>Age_of_Vehicle</th>\n",
       "    </tr>\n",
       "  </thead>\n",
       "  <tbody>\n",
       "    <tr>\n",
       "      <th>0</th>\n",
       "      <td>Tuesday</td>\n",
       "      <td>A</td>\n",
       "      <td>Single carriageway</td>\n",
       "      <td>On main c'way - not in restricted lane</td>\n",
       "      <td>Not at junction or within 20 metres</td>\n",
       "      <td>1</td>\n",
       "      <td>Zebra</td>\n",
       "      <td>Daylight</td>\n",
       "      <td>2</td>\n",
       "      <td>2</td>\n",
       "      <td>0</td>\n",
       "      <td>0</td>\n",
       "      <td>Others or Missing</td>\n",
       "      <td>Urban</td>\n",
       "      <td>Yes</td>\n",
       "      <td>Pedestrian</td>\n",
       "      <td>Male</td>\n",
       "      <td>36 - 45</td>\n",
       "      <td>Pedestrian</td>\n",
       "      <td>None within 50 metres</td>\n",
       "      <td>Crossing on pedestrian crossing facility</td>\n",
       "      <td>Crossing from driver's nearside</td>\n",
       "      <td>1</td>\n",
       "      <td>Car</td>\n",
       "      <td>0</td>\n",
       "      <td>Going ahead other</td>\n",
       "      <td>Not at or within 20 metres of junction</td>\n",
       "      <td>0</td>\n",
       "      <td>0</td>\n",
       "      <td>Front</td>\n",
       "      <td>Female</td>\n",
       "      <td>66 - 75</td>\n",
       "      <td>1</td>\n",
       "      <td>UnLucky</td>\n",
       "      <td>1.0</td>\n",
       "      <td>1.0</td>\n",
       "      <td>30.0</td>\n",
       "      <td>37.0</td>\n",
       "      <td>0.0</td>\n",
       "      <td>0.0</td>\n",
       "      <td>74.0</td>\n",
       "      <td>NaN</td>\n",
       "      <td>NaN</td>\n",
       "    </tr>\n",
       "    <tr>\n",
       "      <th>1</th>\n",
       "      <td>Wednesday</td>\n",
       "      <td>B</td>\n",
       "      <td>Dual carriageway</td>\n",
       "      <td>On main c'way - not in restricted lane</td>\n",
       "      <td>Crossroads</td>\n",
       "      <td>1</td>\n",
       "      <td>Pedestrian phase at traffic signal junction</td>\n",
       "      <td>Darkness - lights lit</td>\n",
       "      <td>1</td>\n",
       "      <td>1</td>\n",
       "      <td>0</td>\n",
       "      <td>0</td>\n",
       "      <td>Journey as part of work</td>\n",
       "      <td>Urban</td>\n",
       "      <td>Yes</td>\n",
       "      <td>Passenger</td>\n",
       "      <td>Male</td>\n",
       "      <td>36 - 45</td>\n",
       "      <td>Bus or coach occupant (17 or more pass seats)</td>\n",
       "      <td>None within 50 metres</td>\n",
       "      <td>Not a Pedestrian</td>\n",
       "      <td>Not a Pedestrian</td>\n",
       "      <td>1</td>\n",
       "      <td>Bus or coach (17 or more pass seats)</td>\n",
       "      <td>0</td>\n",
       "      <td>Slowing or stopping</td>\n",
       "      <td>Leaving roundabout</td>\n",
       "      <td>0</td>\n",
       "      <td>0</td>\n",
       "      <td>Nearside</td>\n",
       "      <td>Male</td>\n",
       "      <td>36 - 45</td>\n",
       "      <td>Others or Missing</td>\n",
       "      <td>UnLucky</td>\n",
       "      <td>1.0</td>\n",
       "      <td>1.0</td>\n",
       "      <td>30.0</td>\n",
       "      <td>37.0</td>\n",
       "      <td>0.0</td>\n",
       "      <td>4.0</td>\n",
       "      <td>42.0</td>\n",
       "      <td>8268.0</td>\n",
       "      <td>3.0</td>\n",
       "    </tr>\n",
       "    <tr>\n",
       "      <th>2</th>\n",
       "      <td>Thursday</td>\n",
       "      <td>C</td>\n",
       "      <td>Single carriageway</td>\n",
       "      <td>On main c'way - not in restricted lane</td>\n",
       "      <td>Not at junction or within 20 metres</td>\n",
       "      <td>1</td>\n",
       "      <td>No physical crossing facilities within 50 metres</td>\n",
       "      <td>Darkness - lights lit</td>\n",
       "      <td>1</td>\n",
       "      <td>1</td>\n",
       "      <td>0</td>\n",
       "      <td>0</td>\n",
       "      <td>Others or Missing</td>\n",
       "      <td>Urban</td>\n",
       "      <td>Yes</td>\n",
       "      <td>Driver or rider</td>\n",
       "      <td>Male</td>\n",
       "      <td>56 - 65</td>\n",
       "      <td>Car occupant</td>\n",
       "      <td>None within 50 metres</td>\n",
       "      <td>Not a Pedestrian</td>\n",
       "      <td>Not a Pedestrian</td>\n",
       "      <td>1</td>\n",
       "      <td>Car</td>\n",
       "      <td>0</td>\n",
       "      <td>Parked</td>\n",
       "      <td>Not at or within 20 metres of junction</td>\n",
       "      <td>0</td>\n",
       "      <td>0</td>\n",
       "      <td>Offside</td>\n",
       "      <td>Male</td>\n",
       "      <td>56 - 65</td>\n",
       "      <td>1</td>\n",
       "      <td>UnLucky</td>\n",
       "      <td>2.0</td>\n",
       "      <td>1.0</td>\n",
       "      <td>30.0</td>\n",
       "      <td>62.0</td>\n",
       "      <td>0.0</td>\n",
       "      <td>0.0</td>\n",
       "      <td>62.0</td>\n",
       "      <td>1762.0</td>\n",
       "      <td>6.0</td>\n",
       "    </tr>\n",
       "    <tr>\n",
       "      <th>3</th>\n",
       "      <td>Friday</td>\n",
       "      <td>A</td>\n",
       "      <td>Single carriageway</td>\n",
       "      <td>On main c'way - not in restricted lane</td>\n",
       "      <td>Not at junction or within 20 metres</td>\n",
       "      <td>1</td>\n",
       "      <td>No physical crossing facilities within 50 metres</td>\n",
       "      <td>Daylight</td>\n",
       "      <td>1</td>\n",
       "      <td>1</td>\n",
       "      <td>0</td>\n",
       "      <td>0</td>\n",
       "      <td>Others or Missing</td>\n",
       "      <td>Urban</td>\n",
       "      <td>Yes</td>\n",
       "      <td>Pedestrian</td>\n",
       "      <td>Male</td>\n",
       "      <td>26 - 35</td>\n",
       "      <td>Pedestrian</td>\n",
       "      <td>None within 50 metres</td>\n",
       "      <td>In carriageway, crossing elsewhere</td>\n",
       "      <td>Crossing from nearside - masked by parked or s...</td>\n",
       "      <td>1</td>\n",
       "      <td>Car</td>\n",
       "      <td>0</td>\n",
       "      <td>Going ahead other</td>\n",
       "      <td>Not at or within 20 metres of junction</td>\n",
       "      <td>0</td>\n",
       "      <td>0</td>\n",
       "      <td>Front</td>\n",
       "      <td>Female</td>\n",
       "      <td>46 - 55</td>\n",
       "      <td>1</td>\n",
       "      <td>UnLucky</td>\n",
       "      <td>1.0</td>\n",
       "      <td>1.0</td>\n",
       "      <td>30.0</td>\n",
       "      <td>30.0</td>\n",
       "      <td>0.0</td>\n",
       "      <td>0.0</td>\n",
       "      <td>49.0</td>\n",
       "      <td>1769.0</td>\n",
       "      <td>4.0</td>\n",
       "    </tr>\n",
       "    <tr>\n",
       "      <th>4</th>\n",
       "      <td>Monday</td>\n",
       "      <td>Unclassified</td>\n",
       "      <td>Single carriageway</td>\n",
       "      <td>On main c'way - not in restricted lane</td>\n",
       "      <td>Not at junction or within 20 metres</td>\n",
       "      <td>1</td>\n",
       "      <td>No physical crossing facilities within 50 metres</td>\n",
       "      <td>Darkness - lighting unknown</td>\n",
       "      <td>1</td>\n",
       "      <td>2</td>\n",
       "      <td>0</td>\n",
       "      <td>0</td>\n",
       "      <td>Others or Missing</td>\n",
       "      <td>Urban</td>\n",
       "      <td>Yes</td>\n",
       "      <td>Driver or rider</td>\n",
       "      <td>Male</td>\n",
       "      <td>46 - 55</td>\n",
       "      <td>Motorcycle 125cc and under rider or passenger</td>\n",
       "      <td>None within 50 metres</td>\n",
       "      <td>Not a Pedestrian</td>\n",
       "      <td>Not a Pedestrian</td>\n",
       "      <td>Others or Missing</td>\n",
       "      <td>Motorcycle 125cc and under</td>\n",
       "      <td>0</td>\n",
       "      <td>Going ahead other</td>\n",
       "      <td>Not at or within 20 metres of junction</td>\n",
       "      <td>1</td>\n",
       "      <td>10</td>\n",
       "      <td>Front</td>\n",
       "      <td>Male</td>\n",
       "      <td>46 - 55</td>\n",
       "      <td>Others or Missing</td>\n",
       "      <td>UnLucky</td>\n",
       "      <td>1.0</td>\n",
       "      <td>1.0</td>\n",
       "      <td>30.0</td>\n",
       "      <td>49.0</td>\n",
       "      <td>0.0</td>\n",
       "      <td>0.0</td>\n",
       "      <td>49.0</td>\n",
       "      <td>85.0</td>\n",
       "      <td>10.0</td>\n",
       "    </tr>\n",
       "  </tbody>\n",
       "</table>\n",
       "</div>"
      ],
      "text/plain": [
       "  Day_of_Week 1st_Road_Class           Road_Type  \\\n",
       "0     Tuesday              A  Single carriageway   \n",
       "1   Wednesday              B    Dual carriageway   \n",
       "2    Thursday              C  Single carriageway   \n",
       "3      Friday              A  Single carriageway   \n",
       "4      Monday   Unclassified  Single carriageway   \n",
       "\n",
       "         Vehicle_Location-Restricted_Lane  \\\n",
       "0  On main c'way - not in restricted lane   \n",
       "1  On main c'way - not in restricted lane   \n",
       "2  On main c'way - not in restricted lane   \n",
       "3  On main c'way - not in restricted lane   \n",
       "4  On main c'way - not in restricted lane   \n",
       "\n",
       "                       Junction_Detail Was_Vehicle_Left_Hand_Drive?  \\\n",
       "0  Not at junction or within 20 metres                            1   \n",
       "1                           Crossroads                            1   \n",
       "2  Not at junction or within 20 metres                            1   \n",
       "3  Not at junction or within 20 metres                            1   \n",
       "4  Not at junction or within 20 metres                            1   \n",
       "\n",
       "            Pedestrian_Crossing-Physical_Facilities  \\\n",
       "0                                             Zebra   \n",
       "1       Pedestrian phase at traffic signal junction   \n",
       "2  No physical crossing facilities within 50 metres   \n",
       "3  No physical crossing facilities within 50 metres   \n",
       "4  No physical crossing facilities within 50 metres   \n",
       "\n",
       "              Light_Conditions Weather_Conditions Road_Surface_Conditions  \\\n",
       "0                     Daylight                  2                       2   \n",
       "1        Darkness - lights lit                  1                       1   \n",
       "2        Darkness - lights lit                  1                       1   \n",
       "3                     Daylight                  1                       1   \n",
       "4  Darkness - lighting unknown                  1                       2   \n",
       "\n",
       "  Special_Conditions_at_Site Carriageway_Hazards Journey_Purpose_of_Driver  \\\n",
       "0                          0                   0         Others or Missing   \n",
       "1                          0                   0   Journey as part of work   \n",
       "2                          0                   0         Others or Missing   \n",
       "3                          0                   0         Others or Missing   \n",
       "4                          0                   0         Others or Missing   \n",
       "\n",
       "  Urban_or_Rural_Area Did_Police_Officer_Attend_Scene_of_Accident  \\\n",
       "0               Urban                                         Yes   \n",
       "1               Urban                                         Yes   \n",
       "2               Urban                                         Yes   \n",
       "3               Urban                                         Yes   \n",
       "4               Urban                                         Yes   \n",
       "\n",
       "    Casualty_Class Sex_of_Casualty Age_Band_of_Casualty  \\\n",
       "0       Pedestrian            Male              36 - 45   \n",
       "1        Passenger            Male              36 - 45   \n",
       "2  Driver or rider            Male              56 - 65   \n",
       "3       Pedestrian            Male              26 - 35   \n",
       "4  Driver or rider            Male              46 - 55   \n",
       "\n",
       "                                   Casualty_Type  \\\n",
       "0                                     Pedestrian   \n",
       "1  Bus or coach occupant (17 or more pass seats)   \n",
       "2                                   Car occupant   \n",
       "3                                     Pedestrian   \n",
       "4  Motorcycle 125cc and under rider or passenger   \n",
       "\n",
       "  Pedestrian_Crossing-Human_Control                       Pedestrian_Location  \\\n",
       "0             None within 50 metres  Crossing on pedestrian crossing facility   \n",
       "1             None within 50 metres                          Not a Pedestrian   \n",
       "2             None within 50 metres                          Not a Pedestrian   \n",
       "3             None within 50 metres        In carriageway, crossing elsewhere   \n",
       "4             None within 50 metres                          Not a Pedestrian   \n",
       "\n",
       "                                 Pedestrian_Movement Casualty_Home_Area_Type  \\\n",
       "0                    Crossing from driver's nearside                       1   \n",
       "1                                   Not a Pedestrian                       1   \n",
       "2                                   Not a Pedestrian                       1   \n",
       "3  Crossing from nearside - masked by parked or s...                       1   \n",
       "4                                   Not a Pedestrian       Others or Missing   \n",
       "\n",
       "                           Vehicle_Type Towing_and_Articulation  \\\n",
       "0                                   Car                       0   \n",
       "1  Bus or coach (17 or more pass seats)                       0   \n",
       "2                                   Car                       0   \n",
       "3                                   Car                       0   \n",
       "4            Motorcycle 125cc and under                       0   \n",
       "\n",
       "     Vehicle_Manoeuvre                       Junction_Location  \\\n",
       "0    Going ahead other  Not at or within 20 metres of junction   \n",
       "1  Slowing or stopping                      Leaving roundabout   \n",
       "2               Parked  Not at or within 20 metres of junction   \n",
       "3    Going ahead other  Not at or within 20 metres of junction   \n",
       "4    Going ahead other  Not at or within 20 metres of junction   \n",
       "\n",
       "  Skidding_and_Overturning Hit_Object_in_Carriageway 1st_Point_of_Impact  \\\n",
       "0                        0                         0               Front   \n",
       "1                        0                         0            Nearside   \n",
       "2                        0                         0             Offside   \n",
       "3                        0                         0               Front   \n",
       "4                        1                        10               Front   \n",
       "\n",
       "  Sex_of_Driver Age_Band_of_Driver Driver_Home_Area_Type LuckyOrNot  \\\n",
       "0        Female            66 - 75                     1    UnLucky   \n",
       "1          Male            36 - 45     Others or Missing    UnLucky   \n",
       "2          Male            56 - 65                     1    UnLucky   \n",
       "3        Female            46 - 55                     1    UnLucky   \n",
       "4          Male            46 - 55     Others or Missing    UnLucky   \n",
       "\n",
       "   Number_of_Vehicles  Number_of_Casualties  Speed_limit  Age_of_Casualty  \\\n",
       "0                 1.0                   1.0         30.0             37.0   \n",
       "1                 1.0                   1.0         30.0             37.0   \n",
       "2                 2.0                   1.0         30.0             62.0   \n",
       "3                 1.0                   1.0         30.0             30.0   \n",
       "4                 1.0                   1.0         30.0             49.0   \n",
       "\n",
       "   Car_Passenger  Bus_or_Coach_Passenger  Age_of_Driver  Engine_Capacity_(CC)  \\\n",
       "0            0.0                     0.0           74.0                   NaN   \n",
       "1            0.0                     4.0           42.0                8268.0   \n",
       "2            0.0                     0.0           62.0                1762.0   \n",
       "3            0.0                     0.0           49.0                1769.0   \n",
       "4            0.0                     0.0           49.0                  85.0   \n",
       "\n",
       "   Age_of_Vehicle  \n",
       "0             NaN  \n",
       "1             3.0  \n",
       "2             6.0  \n",
       "3             4.0  \n",
       "4            10.0  "
      ]
     },
     "execution_count": 3,
     "metadata": {},
     "output_type": "execute_result"
    }
   ],
   "source": [
    "pd.set_option(\"max_columns\", None)\n",
    "Data.head()"
   ]
  },
  {
   "cell_type": "markdown",
   "metadata": {},
   "source": [
    "### Data Manipulating ( Discrete Variables)"
   ]
  },
  {
   "cell_type": "code",
   "execution_count": 4,
   "metadata": {},
   "outputs": [],
   "source": [
    "pd.options.mode.chained_assignment = None"
   ]
  },
  {
   "cell_type": "code",
   "execution_count": 5,
   "metadata": {},
   "outputs": [],
   "source": [
    "def LuckyPCT(var) :\n",
    "    Df = Data.groupby([var])[\"LuckyOrNot\"].value_counts().unstack().assign(Lucky_pct = lambda x : x.Lucky / (x.Lucky + x.UnLucky))\n",
    "    Df1 = Df.sort_values(by = \"Lucky_pct\", ascending = False)\n",
    "    return Df1"
   ]
  },
  {
   "cell_type": "code",
   "execution_count": 6,
   "metadata": {},
   "outputs": [],
   "source": [
    "# Day_of_Week        OK\n",
    "# 1st_Road_Class     OK\n",
    "# Road_Type          OK"
   ]
  },
  {
   "cell_type": "code",
   "execution_count": 7,
   "metadata": {},
   "outputs": [],
   "source": [
    "# Vehicle_Location-Restricted_Lane\n",
    "# LuckyPCT(\"Vehicle_Location-Restricted_Lane\")\n",
    "def replace_Vehicle_Location_Restricted_Lane(x):\n",
    "    if \"hard shoulder\" in x :\n",
    "        value = \"Lay-By or Hard Shoulder\"\n",
    "    elif \"On main c'way\" in x :\n",
    "        value = \"Main Carriageway\" \n",
    "    elif \"Bus\" in x :\n",
    "        value = \"Bus Lane or Busway\"\n",
    "    elif \"Cycle\" in x :\n",
    "        value = \"Cycle Lane or Cycleway\"\n",
    "    else :\n",
    "        value = \"Others or Missing\"\n",
    "    return value\n",
    "Data.loc[:, \"Vehicle_Location-Restricted_Lane\"] = Data[\"Vehicle_Location-Restricted_Lane\"].apply(replace_Vehicle_Location_Restricted_Lane).values"
   ]
  },
  {
   "cell_type": "code",
   "execution_count": 8,
   "metadata": {},
   "outputs": [],
   "source": [
    "# Junction_Detail\n",
    "Data.loc[:, \"Junction_Detail\"] = Data[\"Junction_Detail\"].replace(\n",
    "    to_replace = [\"Slip road\", \"More than 4 arms (not roundabout)\",\"Mini-roundabout\"], \n",
    "    value = \"Other junction\").values"
   ]
  },
  {
   "cell_type": "code",
   "execution_count": 9,
   "metadata": {},
   "outputs": [
    {
     "data": {
      "text/html": [
       "<div>\n",
       "<style scoped>\n",
       "    .dataframe tbody tr th:only-of-type {\n",
       "        vertical-align: middle;\n",
       "    }\n",
       "\n",
       "    .dataframe tbody tr th {\n",
       "        vertical-align: top;\n",
       "    }\n",
       "\n",
       "    .dataframe thead th {\n",
       "        text-align: right;\n",
       "    }\n",
       "</style>\n",
       "<table border=\"1\" class=\"dataframe\">\n",
       "  <thead>\n",
       "    <tr style=\"text-align: right;\">\n",
       "      <th>LuckyOrNot</th>\n",
       "      <th>Lucky</th>\n",
       "      <th>UnLucky</th>\n",
       "      <th>Lucky_pct</th>\n",
       "    </tr>\n",
       "    <tr>\n",
       "      <th>Was_Vehicle_Left_Hand_Drive?</th>\n",
       "      <th></th>\n",
       "      <th></th>\n",
       "      <th></th>\n",
       "    </tr>\n",
       "  </thead>\n",
       "  <tbody>\n",
       "    <tr>\n",
       "      <th>2</th>\n",
       "      <td>469</td>\n",
       "      <td>4437</td>\n",
       "      <td>0.095597</td>\n",
       "    </tr>\n",
       "    <tr>\n",
       "      <th>Others or Missing</th>\n",
       "      <td>847</td>\n",
       "      <td>16926</td>\n",
       "      <td>0.047657</td>\n",
       "    </tr>\n",
       "    <tr>\n",
       "      <th>1</th>\n",
       "      <td>104789</td>\n",
       "      <td>2275441</td>\n",
       "      <td>0.044025</td>\n",
       "    </tr>\n",
       "  </tbody>\n",
       "</table>\n",
       "</div>"
      ],
      "text/plain": [
       "LuckyOrNot                     Lucky  UnLucky  Lucky_pct\n",
       "Was_Vehicle_Left_Hand_Drive?                            \n",
       "2                                469     4437   0.095597\n",
       "Others or Missing                847    16926   0.047657\n",
       "1                             104789  2275441   0.044025"
      ]
     },
     "execution_count": 9,
     "metadata": {},
     "output_type": "execute_result"
    }
   ],
   "source": [
    "# Was_Vehicle_Left_Hand_Drive?    Keep\n",
    "LuckyPCT(\"Was_Vehicle_Left_Hand_Drive?\")"
   ]
  },
  {
   "cell_type": "code",
   "execution_count": 10,
   "metadata": {
    "scrolled": false
   },
   "outputs": [],
   "source": [
    "# Pedestrian_Crossing-Physical_Facilities    Drop\n",
    "LuckyPCT(\"Pedestrian_Crossing-Physical_Facilities\")\n",
    "# Can drop the column since the dominated value also has the highest Lucky percentage\n",
    "Data.drop(\"Pedestrian_Crossing-Physical_Facilities\", axis = 1, inplace = True)"
   ]
  },
  {
   "cell_type": "code",
   "execution_count": 11,
   "metadata": {},
   "outputs": [],
   "source": [
    "# Light_Conditions\n",
    "# LuckyPCT(\"Light_Conditions\")\n",
    "Data.loc[:, \"Light_Conditions\"] = Data[\"Light_Conditions\"].apply(lambda x : \"Darkness - no lights\" if x in [\"Darkness - no lighting\", \"Darkness - lights unlit\"] else x).values"
   ]
  },
  {
   "cell_type": "code",
   "execution_count": 12,
   "metadata": {
    "scrolled": true
   },
   "outputs": [],
   "source": [
    "# Weather_Conditions     Keep\n",
    "# LuckyPCT(\"Weather_Conditions\")"
   ]
  },
  {
   "cell_type": "code",
   "execution_count": 13,
   "metadata": {},
   "outputs": [],
   "source": [
    "# Road_Surface_Conditions     Keep\n",
    "# LuckyPCT(\"Road_Surface_Conditions\")"
   ]
  },
  {
   "cell_type": "code",
   "execution_count": 14,
   "metadata": {},
   "outputs": [],
   "source": [
    "# Special_Conditions_at_Site     Keep\n",
    "# LuckyPCT(\"Special_Conditions_at_Site\")"
   ]
  },
  {
   "cell_type": "code",
   "execution_count": 15,
   "metadata": {},
   "outputs": [],
   "source": [
    "# Carriageway_Hazards   OK\n",
    "# LuckyPCT(\"Carriageway_Hazards\")"
   ]
  },
  {
   "cell_type": "code",
   "execution_count": 41,
   "metadata": {},
   "outputs": [],
   "source": [
    "# Journey_Purpose_of_Driver    Drop\n",
    "# LuckyPCT(Journey_Purpose_of_Driver)\n",
    "\n",
    "# LuckyOrNot                        Lucky   |  UnLucky   | Lucky_pct\n",
    "# Journey_Purpose_of_Driver                 |            |\n",
    "# ------------------------------------------------------------------------\n",
    "# Other                               882   |    17108   |     0.05\n",
    "# Others or Missing                 80590   |  1665661   |     0.05\n",
    "# Journey as part of work           16705   |   347780   |     0.05\n",
    "Data.drop(\"Journey_Purpose_of_Driver\", axis = 1, inplace = True)"
   ]
  },
  {
   "cell_type": "code",
   "execution_count": 17,
   "metadata": {},
   "outputs": [],
   "source": [
    "# Did_Police_Officer_Attend_Scene_of_Accident\n",
    "Data.loc[:, \"Did_Police_Officer_Attend_Scene_of_Accident\"] = Data[\"Did_Police_Officer_Attend_Scene_of_Accident\"].apply(lambda x : \"No\" if x not in [\"Yes\", \"No\", \"Others or Missing\"] else x).values"
   ]
  },
  {
   "cell_type": "code",
   "execution_count": 18,
   "metadata": {},
   "outputs": [],
   "source": [
    "# Casualty_Class         OK\n",
    "# Sex_of_Casualty        OK\n",
    "# Age_Band_of_Casualty   OK"
   ]
  },
  {
   "cell_type": "code",
   "execution_count": 19,
   "metadata": {},
   "outputs": [],
   "source": [
    "# Casualty_Type           Keep\n",
    "# LuckyPCT(\"Casualty_Type\")\n",
    "\n",
    "def Replace_Casualty_Type(x) :\n",
    "    if \"Goods vehicle\" in x :\n",
    "        value = \"Goods Vehicle occupant\"\n",
    "    elif \"Minibus\" in x :\n",
    "        value = \"Minibus(8-16) occupant\"\n",
    "    elif (\"Car\" in x) or (\"car\" in x) :\n",
    "        value = \"Car occupant\"\n",
    "    elif \"Tram\" in x :\n",
    "        value = \"Tram occupant\"\n",
    "    elif \"Motorcycle\" in x :\n",
    "        value = \"Motorcycle rider\" \n",
    "    elif (\"Pedestrian\" in x) or (\"Cyclist\" in x) or(\"Bus\" in x):\n",
    "        value = x\n",
    "    else :\n",
    "        value = \"Others\"\n",
    "    return value\n",
    "        \n",
    "Data.loc[:, \"Casualty_Type\"] = Data[\"Casualty_Type\"].apply(Replace_Casualty_Type).values\n"
   ]
  },
  {
   "cell_type": "code",
   "execution_count": 20,
   "metadata": {},
   "outputs": [],
   "source": [
    "# Pedestrian_Crossing-Human_Control       Drop\n",
    "# Pedestrian_Location                     Drop\n",
    "# Pedestrian_Movement                     Drop\n",
    "Data.drop([\"Pedestrian_Crossing-Human_Control\", \"Pedestrian_Location\", \"Pedestrian_Movement\"], axis = 1, inplace = True)"
   ]
  },
  {
   "cell_type": "code",
   "execution_count": 21,
   "metadata": {},
   "outputs": [],
   "source": [
    "# Casualty_Home_Area_Type     OK"
   ]
  },
  {
   "cell_type": "code",
   "execution_count": 22,
   "metadata": {},
   "outputs": [],
   "source": [
    "# Vehicle_Type                Drop\n",
    "# LuckyPCT(\"Vehicle_Type\")\n",
    "# Data.groupby(\"Casualty_Type\")[\"Vehicle_Type\"].value_counts().unstack()\n",
    "# Vehicle is same as Casualty\n",
    "Data.drop(\"Vehicle_Type\", axis = 1, inplace = True)"
   ]
  },
  {
   "cell_type": "code",
   "execution_count": 23,
   "metadata": {},
   "outputs": [],
   "source": [
    "# Towing_and_Articulation      Keep\n",
    "# LuckyPCT(\"Towing_and_Articulation\")"
   ]
  },
  {
   "cell_type": "code",
   "execution_count": 24,
   "metadata": {
    "scrolled": true
   },
   "outputs": [],
   "source": [
    "# Vehicle_Manoeuvrea\n",
    "def replace_Vehicle_Manoeuvre(x):\n",
    "    if \"Going ahead\"in x :\n",
    "        value = \"Going Ahead\"\n",
    "    elif \"Waiting to\" in x :\n",
    "        value = \"Waiting\"\n",
    "    elif \"Turning\" in x :\n",
    "        value = \"Turning\"\n",
    "    elif \"Overtaking\" in x :\n",
    "        value = \"Overtaking\"\n",
    "    elif \"Changing lane\" in x :\n",
    "        value = \"Changing Lane\"\n",
    "    else :\n",
    "        value = x\n",
    "    return value\n",
    "\n",
    "Data.loc[:, \"Vehicle_Manoeuvre\"] = Data[\"Vehicle_Manoeuvre\"].apply(replace_Vehicle_Manoeuvre).values"
   ]
  },
  {
   "cell_type": "code",
   "execution_count": 25,
   "metadata": {
    "scrolled": false
   },
   "outputs": [],
   "source": [
    "# Junction_Location\n",
    "def Replace_Junction_Location(X):\n",
    "    if \"Approaching\" in X :\n",
    "        value = \"Approaching Junction or Near\"\n",
    "    elif \"Mid Junction\" in X :\n",
    "        value = \"in Middle\"\n",
    "    elif \"waiting\" in X :\n",
    "        value = \"Waiting or Parking\"\n",
    "    elif \"Entering\" in X:\n",
    "        value = \"Entering\"\n",
    "    elif \"Leaving\" in X :\n",
    "        value = \"Leaving\"\n",
    "    elif \"Data missing\" in X :\n",
    "        value = \"Missing\"\n",
    "    else :\n",
    "        value = X\n",
    "    return value\n",
    "\n",
    "\n",
    "Data.loc[:, \"Junction_Location\"] = Data[\"Junction_Location\"].apply(Replace_Junction_Location).values"
   ]
  },
  {
   "cell_type": "code",
   "execution_count": 26,
   "metadata": {},
   "outputs": [
    {
     "data": {
      "text/html": [
       "<div>\n",
       "<style scoped>\n",
       "    .dataframe tbody tr th:only-of-type {\n",
       "        vertical-align: middle;\n",
       "    }\n",
       "\n",
       "    .dataframe tbody tr th {\n",
       "        vertical-align: top;\n",
       "    }\n",
       "\n",
       "    .dataframe thead th {\n",
       "        text-align: right;\n",
       "    }\n",
       "</style>\n",
       "<table border=\"1\" class=\"dataframe\">\n",
       "  <thead>\n",
       "    <tr style=\"text-align: right;\">\n",
       "      <th>LuckyOrNot</th>\n",
       "      <th>Lucky</th>\n",
       "      <th>UnLucky</th>\n",
       "      <th>Lucky_pct</th>\n",
       "    </tr>\n",
       "    <tr>\n",
       "      <th>Skidding_and_Overturning</th>\n",
       "      <th></th>\n",
       "      <th></th>\n",
       "      <th></th>\n",
       "    </tr>\n",
       "  </thead>\n",
       "  <tbody>\n",
       "    <tr>\n",
       "      <th>3</th>\n",
       "      <td>120</td>\n",
       "      <td>904</td>\n",
       "      <td>0.117188</td>\n",
       "    </tr>\n",
       "    <tr>\n",
       "      <th>2</th>\n",
       "      <td>7070</td>\n",
       "      <td>78748</td>\n",
       "      <td>0.082384</td>\n",
       "    </tr>\n",
       "    <tr>\n",
       "      <th>4</th>\n",
       "      <td>79</td>\n",
       "      <td>886</td>\n",
       "      <td>0.081865</td>\n",
       "    </tr>\n",
       "    <tr>\n",
       "      <th>5</th>\n",
       "      <td>4534</td>\n",
       "      <td>56555</td>\n",
       "      <td>0.074220</td>\n",
       "    </tr>\n",
       "    <tr>\n",
       "      <th>1</th>\n",
       "      <td>19882</td>\n",
       "      <td>268518</td>\n",
       "      <td>0.068939</td>\n",
       "    </tr>\n",
       "    <tr>\n",
       "      <th>0</th>\n",
       "      <td>74418</td>\n",
       "      <td>1891042</td>\n",
       "      <td>0.037863</td>\n",
       "    </tr>\n",
       "    <tr>\n",
       "      <th>Others or Missing</th>\n",
       "      <td>2</td>\n",
       "      <td>151</td>\n",
       "      <td>0.013072</td>\n",
       "    </tr>\n",
       "  </tbody>\n",
       "</table>\n",
       "</div>"
      ],
      "text/plain": [
       "LuckyOrNot                Lucky  UnLucky  Lucky_pct\n",
       "Skidding_and_Overturning                           \n",
       "3                           120      904   0.117188\n",
       "2                          7070    78748   0.082384\n",
       "4                            79      886   0.081865\n",
       "5                          4534    56555   0.074220\n",
       "1                         19882   268518   0.068939\n",
       "0                         74418  1891042   0.037863\n",
       "Others or Missing             2      151   0.013072"
      ]
     },
     "execution_count": 26,
     "metadata": {},
     "output_type": "execute_result"
    }
   ],
   "source": [
    "# Skidding_and_Overturning     Keep\n",
    "LuckyPCT(\"Skidding_and_Overturning\")"
   ]
  },
  {
   "cell_type": "code",
   "execution_count": 27,
   "metadata": {},
   "outputs": [
    {
     "data": {
      "text/html": [
       "<div>\n",
       "<style scoped>\n",
       "    .dataframe tbody tr th:only-of-type {\n",
       "        vertical-align: middle;\n",
       "    }\n",
       "\n",
       "    .dataframe tbody tr th {\n",
       "        vertical-align: top;\n",
       "    }\n",
       "\n",
       "    .dataframe thead th {\n",
       "        text-align: right;\n",
       "    }\n",
       "</style>\n",
       "<table border=\"1\" class=\"dataframe\">\n",
       "  <thead>\n",
       "    <tr style=\"text-align: right;\">\n",
       "      <th>LuckyOrNot</th>\n",
       "      <th>Lucky</th>\n",
       "      <th>UnLucky</th>\n",
       "      <th>Lucky_pct</th>\n",
       "    </tr>\n",
       "    <tr>\n",
       "      <th>Hit_Object_in_Carriageway</th>\n",
       "      <th></th>\n",
       "      <th></th>\n",
       "      <th></th>\n",
       "    </tr>\n",
       "  </thead>\n",
       "  <tbody>\n",
       "    <tr>\n",
       "      <th>1</th>\n",
       "      <td>169</td>\n",
       "      <td>659</td>\n",
       "      <td>0.204106</td>\n",
       "    </tr>\n",
       "    <tr>\n",
       "      <th>Others or Missing</th>\n",
       "      <td>21</td>\n",
       "      <td>134</td>\n",
       "      <td>0.135484</td>\n",
       "    </tr>\n",
       "    <tr>\n",
       "      <th>5</th>\n",
       "      <td>83</td>\n",
       "      <td>641</td>\n",
       "      <td>0.114641</td>\n",
       "    </tr>\n",
       "    <tr>\n",
       "      <th>6</th>\n",
       "      <td>260</td>\n",
       "      <td>2416</td>\n",
       "      <td>0.097160</td>\n",
       "    </tr>\n",
       "    <tr>\n",
       "      <th>10</th>\n",
       "      <td>4310</td>\n",
       "      <td>56868</td>\n",
       "      <td>0.070450</td>\n",
       "    </tr>\n",
       "    <tr>\n",
       "      <th>9</th>\n",
       "      <td>201</td>\n",
       "      <td>3444</td>\n",
       "      <td>0.055144</td>\n",
       "    </tr>\n",
       "    <tr>\n",
       "      <th>7</th>\n",
       "      <td>886</td>\n",
       "      <td>15657</td>\n",
       "      <td>0.053557</td>\n",
       "    </tr>\n",
       "    <tr>\n",
       "      <th>4</th>\n",
       "      <td>1467</td>\n",
       "      <td>32034</td>\n",
       "      <td>0.043790</td>\n",
       "    </tr>\n",
       "    <tr>\n",
       "      <th>0</th>\n",
       "      <td>98172</td>\n",
       "      <td>2167818</td>\n",
       "      <td>0.043324</td>\n",
       "    </tr>\n",
       "    <tr>\n",
       "      <th>12</th>\n",
       "      <td>172</td>\n",
       "      <td>3950</td>\n",
       "      <td>0.041727</td>\n",
       "    </tr>\n",
       "    <tr>\n",
       "      <th>2</th>\n",
       "      <td>57</td>\n",
       "      <td>1380</td>\n",
       "      <td>0.039666</td>\n",
       "    </tr>\n",
       "    <tr>\n",
       "      <th>11</th>\n",
       "      <td>296</td>\n",
       "      <td>7557</td>\n",
       "      <td>0.037693</td>\n",
       "    </tr>\n",
       "    <tr>\n",
       "      <th>8</th>\n",
       "      <td>11</td>\n",
       "      <td>4246</td>\n",
       "      <td>0.002584</td>\n",
       "    </tr>\n",
       "  </tbody>\n",
       "</table>\n",
       "</div>"
      ],
      "text/plain": [
       "LuckyOrNot                 Lucky  UnLucky  Lucky_pct\n",
       "Hit_Object_in_Carriageway                           \n",
       "1                            169      659   0.204106\n",
       "Others or Missing             21      134   0.135484\n",
       "5                             83      641   0.114641\n",
       "6                            260     2416   0.097160\n",
       "10                          4310    56868   0.070450\n",
       "9                            201     3444   0.055144\n",
       "7                            886    15657   0.053557\n",
       "4                           1467    32034   0.043790\n",
       "0                          98172  2167818   0.043324\n",
       "12                           172     3950   0.041727\n",
       "2                             57     1380   0.039666\n",
       "11                           296     7557   0.037693\n",
       "8                             11     4246   0.002584"
      ]
     },
     "execution_count": 27,
     "metadata": {},
     "output_type": "execute_result"
    }
   ],
   "source": [
    "# Hit_Object_in_Carriageway      Keep\n",
    "LuckyPCT(\"Hit_Object_in_Carriageway\")"
   ]
  },
  {
   "cell_type": "code",
   "execution_count": 28,
   "metadata": {},
   "outputs": [],
   "source": [
    "# 1st_Point_of_Impact           OK"
   ]
  },
  {
   "cell_type": "code",
   "execution_count": 29,
   "metadata": {},
   "outputs": [],
   "source": [
    "# Sex_of_Driver\n",
    "Data.loc[:, \"Sex_of_Driver\"] = Data[\"Sex_of_Driver\"].apply(lambda x : x if x in [\"Male\", \"Female\"] else \"Others or Missing\").values"
   ]
  },
  {
   "cell_type": "code",
   "execution_count": 30,
   "metadata": {},
   "outputs": [
    {
     "data": {
      "text/html": [
       "<div>\n",
       "<style scoped>\n",
       "    .dataframe tbody tr th:only-of-type {\n",
       "        vertical-align: middle;\n",
       "    }\n",
       "\n",
       "    .dataframe tbody tr th {\n",
       "        vertical-align: top;\n",
       "    }\n",
       "\n",
       "    .dataframe thead th {\n",
       "        text-align: right;\n",
       "    }\n",
       "</style>\n",
       "<table border=\"1\" class=\"dataframe\">\n",
       "  <thead>\n",
       "    <tr style=\"text-align: right;\">\n",
       "      <th>Casualty_Home_Area_Type</th>\n",
       "      <th>1</th>\n",
       "      <th>2</th>\n",
       "      <th>3</th>\n",
       "      <th>Others or Missing</th>\n",
       "    </tr>\n",
       "    <tr>\n",
       "      <th>Driver_Home_Area_Type</th>\n",
       "      <th></th>\n",
       "      <th></th>\n",
       "      <th></th>\n",
       "      <th></th>\n",
       "    </tr>\n",
       "  </thead>\n",
       "  <tbody>\n",
       "    <tr>\n",
       "      <th>1</th>\n",
       "      <td>1501467</td>\n",
       "      <td>14166</td>\n",
       "      <td>14998</td>\n",
       "      <td>105892</td>\n",
       "    </tr>\n",
       "    <tr>\n",
       "      <th>2</th>\n",
       "      <td>16943</td>\n",
       "      <td>166007</td>\n",
       "      <td>6015</td>\n",
       "      <td>10505</td>\n",
       "    </tr>\n",
       "    <tr>\n",
       "      <th>3</th>\n",
       "      <td>20022</td>\n",
       "      <td>7135</td>\n",
       "      <td>212410</td>\n",
       "      <td>11911</td>\n",
       "    </tr>\n",
       "    <tr>\n",
       "      <th>Others or Missing</th>\n",
       "      <td>85995</td>\n",
       "      <td>6742</td>\n",
       "      <td>7137</td>\n",
       "      <td>215564</td>\n",
       "    </tr>\n",
       "  </tbody>\n",
       "</table>\n",
       "</div>"
      ],
      "text/plain": [
       "Casualty_Home_Area_Type        1       2       3  Others or Missing\n",
       "Driver_Home_Area_Type                                              \n",
       "1                        1501467   14166   14998             105892\n",
       "2                          16943  166007    6015              10505\n",
       "3                          20022    7135  212410              11911\n",
       "Others or Missing          85995    6742    7137             215564"
      ]
     },
     "execution_count": 30,
     "metadata": {},
     "output_type": "execute_result"
    }
   ],
   "source": [
    "# Age_Band_of_Driver           OK\n",
    "Data.groupby(\"Driver_Home_Area_Type\")[\"Casualty_Home_Area_Type\"].value_counts().unstack()\n",
    "# Driver_Home_Area_Type        Keep"
   ]
  },
  {
   "cell_type": "code",
   "execution_count": 31,
   "metadata": {},
   "outputs": [
    {
     "data": {
      "text/plain": [
       "UnLucky    2296804\n",
       "Lucky       106105\n",
       "Name: LuckyOrNot, dtype: int64"
      ]
     },
     "execution_count": 31,
     "metadata": {},
     "output_type": "execute_result"
    }
   ],
   "source": [
    "Data[\"LuckyOrNot\"].value_counts()"
   ]
  },
  {
   "cell_type": "markdown",
   "metadata": {},
   "source": [
    "### Data Manipulating ( Numeric Variables)"
   ]
  },
  {
   "cell_type": "code",
   "execution_count": 32,
   "metadata": {
    "scrolled": true
   },
   "outputs": [
    {
     "data": {
      "image/png": "[encoded data removed]",
      "text/plain": [
       "<Figure size 576x360 with 2 Axes>"
      ]
     },
     "metadata": {
      "needs_background": "light"
     },
     "output_type": "display_data"
    }
   ],
   "source": [
    "# Pearson Correlation Plot\n",
    "plt.figure(figsize=(8,5))\n",
    "sns.heatmap(Data.select_dtypes(include = [\"float\", \"int\"]).corr().round(2), \n",
    "            cmap = \"bwr\", annot = True, vmin=-1, vmax=1)\n",
    "plt.show()"
   ]
  },
  {
   "cell_type": "code",
   "execution_count": 33,
   "metadata": {},
   "outputs": [
    {
     "data": {
      "text/html": [
       "<div>\n",
       "<style scoped>\n",
       "    .dataframe tbody tr th:only-of-type {\n",
       "        vertical-align: middle;\n",
       "    }\n",
       "\n",
       "    .dataframe tbody tr th {\n",
       "        vertical-align: top;\n",
       "    }\n",
       "\n",
       "    .dataframe thead th {\n",
       "        text-align: right;\n",
       "    }\n",
       "</style>\n",
       "<table border=\"1\" class=\"dataframe\">\n",
       "  <thead>\n",
       "    <tr style=\"text-align: right;\">\n",
       "      <th></th>\n",
       "      <th>Number_of_Vehicles</th>\n",
       "      <th>Number_of_Casualties</th>\n",
       "      <th>Speed_limit</th>\n",
       "      <th>Age_of_Casualty</th>\n",
       "      <th>Car_Passenger</th>\n",
       "      <th>Bus_or_Coach_Passenger</th>\n",
       "      <th>Age_of_Driver</th>\n",
       "      <th>Engine_Capacity_(CC)</th>\n",
       "      <th>Age_of_Vehicle</th>\n",
       "    </tr>\n",
       "  </thead>\n",
       "  <tbody>\n",
       "    <tr>\n",
       "      <th>count</th>\n",
       "      <td>2402909.00</td>\n",
       "      <td>2402909.00</td>\n",
       "      <td>2402909.00</td>\n",
       "      <td>2353995.00</td>\n",
       "      <td>2402129.00</td>\n",
       "      <td>2402846.00</td>\n",
       "      <td>2308445.00</td>\n",
       "      <td>1807804.00</td>\n",
       "      <td>1735458.00</td>\n",
       "    </tr>\n",
       "    <tr>\n",
       "      <th>mean</th>\n",
       "      <td>1.94</td>\n",
       "      <td>1.85</td>\n",
       "      <td>40.23</td>\n",
       "      <td>35.23</td>\n",
       "      <td>0.28</td>\n",
       "      <td>0.09</td>\n",
       "      <td>37.75</td>\n",
       "      <td>1767.12</td>\n",
       "      <td>7.44</td>\n",
       "    </tr>\n",
       "    <tr>\n",
       "      <th>std</th>\n",
       "      <td>0.90</td>\n",
       "      <td>2.02</td>\n",
       "      <td>14.69</td>\n",
       "      <td>18.37</td>\n",
       "      <td>0.59</td>\n",
       "      <td>0.56</td>\n",
       "      <td>16.06</td>\n",
       "      <td>1486.62</td>\n",
       "      <td>4.61</td>\n",
       "    </tr>\n",
       "    <tr>\n",
       "      <th>min</th>\n",
       "      <td>1.00</td>\n",
       "      <td>1.00</td>\n",
       "      <td>0.00</td>\n",
       "      <td>0.00</td>\n",
       "      <td>0.00</td>\n",
       "      <td>0.00</td>\n",
       "      <td>1.00</td>\n",
       "      <td>1.00</td>\n",
       "      <td>1.00</td>\n",
       "    </tr>\n",
       "    <tr>\n",
       "      <th>25%</th>\n",
       "      <td>1.00</td>\n",
       "      <td>1.00</td>\n",
       "      <td>30.00</td>\n",
       "      <td>21.00</td>\n",
       "      <td>0.00</td>\n",
       "      <td>0.00</td>\n",
       "      <td>24.00</td>\n",
       "      <td>1242.00</td>\n",
       "      <td>4.00</td>\n",
       "    </tr>\n",
       "    <tr>\n",
       "      <th>50%</th>\n",
       "      <td>2.00</td>\n",
       "      <td>1.00</td>\n",
       "      <td>30.00</td>\n",
       "      <td>32.00</td>\n",
       "      <td>0.00</td>\n",
       "      <td>0.00</td>\n",
       "      <td>35.00</td>\n",
       "      <td>1590.00</td>\n",
       "      <td>7.00</td>\n",
       "    </tr>\n",
       "    <tr>\n",
       "      <th>75%</th>\n",
       "      <td>2.00</td>\n",
       "      <td>2.00</td>\n",
       "      <td>60.00</td>\n",
       "      <td>47.00</td>\n",
       "      <td>0.00</td>\n",
       "      <td>0.00</td>\n",
       "      <td>48.00</td>\n",
       "      <td>1956.00</td>\n",
       "      <td>10.00</td>\n",
       "    </tr>\n",
       "    <tr>\n",
       "      <th>max</th>\n",
       "      <td>67.00</td>\n",
       "      <td>93.00</td>\n",
       "      <td>70.00</td>\n",
       "      <td>104.00</td>\n",
       "      <td>2.00</td>\n",
       "      <td>4.00</td>\n",
       "      <td>100.00</td>\n",
       "      <td>99999.00</td>\n",
       "      <td>111.00</td>\n",
       "    </tr>\n",
       "  </tbody>\n",
       "</table>\n",
       "</div>"
      ],
      "text/plain": [
       "       Number_of_Vehicles  Number_of_Casualties  Speed_limit  Age_of_Casualty  \\\n",
       "count          2402909.00            2402909.00   2402909.00       2353995.00   \n",
       "mean                 1.94                  1.85        40.23            35.23   \n",
       "std                  0.90                  2.02        14.69            18.37   \n",
       "min                  1.00                  1.00         0.00             0.00   \n",
       "25%                  1.00                  1.00        30.00            21.00   \n",
       "50%                  2.00                  1.00        30.00            32.00   \n",
       "75%                  2.00                  2.00        60.00            47.00   \n",
       "max                 67.00                 93.00        70.00           104.00   \n",
       "\n",
       "       Car_Passenger  Bus_or_Coach_Passenger  Age_of_Driver  \\\n",
       "count     2402129.00              2402846.00     2308445.00   \n",
       "mean            0.28                    0.09          37.75   \n",
       "std             0.59                    0.56          16.06   \n",
       "min             0.00                    0.00           1.00   \n",
       "25%             0.00                    0.00          24.00   \n",
       "50%             0.00                    0.00          35.00   \n",
       "75%             0.00                    0.00          48.00   \n",
       "max             2.00                    4.00         100.00   \n",
       "\n",
       "       Engine_Capacity_(CC)  Age_of_Vehicle  \n",
       "count            1807804.00      1735458.00  \n",
       "mean                1767.12            7.44  \n",
       "std                 1486.62            4.61  \n",
       "min                    1.00            1.00  \n",
       "25%                 1242.00            4.00  \n",
       "50%                 1590.00            7.00  \n",
       "75%                 1956.00           10.00  \n",
       "max                99999.00          111.00  "
      ]
     },
     "execution_count": 33,
     "metadata": {},
     "output_type": "execute_result"
    }
   ],
   "source": [
    "# Statistical Summary\n",
    "pd.options.display.float_format = '{:.2f}'.format\n",
    "Data.select_dtypes(include = [\"float\", \"int\"]).describe()"
   ]
  },
  {
   "cell_type": "code",
   "execution_count": 34,
   "metadata": {},
   "outputs": [
    {
     "data": {
      "image/png": "[encoded data removed]",
      "text/plain": [
       "<Figure size 1080x720 with 1 Axes>"
      ]
     },
     "metadata": {
      "needs_background": "light"
     },
     "output_type": "display_data"
    },
    {
     "data": {
      "image/png": "[encoded data removed]",
      "text/plain": [
       "<Figure size 1080x720 with 1 Axes>"
      ]
     },
     "metadata": {
      "needs_background": "light"
     },
     "output_type": "display_data"
    },
    {
     "data": {
      "image/png": "[encoded data removed]",
      "text/plain": [
       "<Figure size 1080x720 with 1 Axes>"
      ]
     },
     "metadata": {
      "needs_background": "light"
     },
     "output_type": "display_data"
    },
    {
     "data": {
      "image/png": "[encoded data removed]",
      "text/plain": [
       "<Figure size 1080x720 with 1 Axes>"
      ]
     },
     "metadata": {
      "needs_background": "light"
     },
     "output_type": "display_data"
    },
    {
     "data": {
      "image/png": "[encoded data removed]",
      "text/plain": [
       "<Figure size 1080x720 with 1 Axes>"
      ]
     },
     "metadata": {
      "needs_background": "light"
     },
     "output_type": "display_data"
    },
    {
     "data": {
      "image/png": "[encoded data removed]",
      "text/plain": [
       "<Figure size 1080x720 with 1 Axes>"
      ]
     },
     "metadata": {
      "needs_background": "light"
     },
     "output_type": "display_data"
    },
    {
     "data": {
      "image/png": "[encoded data removed]",
      "text/plain": [
       "<Figure size 1080x720 with 1 Axes>"
      ]
     },
     "metadata": {
      "needs_background": "light"
     },
     "output_type": "display_data"
    }
   ],
   "source": [
    "# Boxplot\n",
    "for i in range(7) :\n",
    "    plt.figure(figsize=(15,10))\n",
    "    plt.subplot(7,1,i+1)\n",
    "    sns.boxplot(x = Data.select_dtypes(include = \"float\").columns[i], data = Data)\n",
    "    plt.show()"
   ]
  },
  {
   "cell_type": "code",
   "execution_count": 35,
   "metadata": {},
   "outputs": [],
   "source": [
    "# Engine_Capacity_(CC)\n",
    "# Clamp Transformation 3 times std\n",
    "EngineCC_Ser = Data[\"Engine_Capacity_(CC)\"]\n",
    "Data.loc[:, \"Engine_Capacity_(CC)\"] = np.where(EngineCC_Ser > EngineCC_Ser.median() + 3 * EngineCC_Ser.std(), EngineCC_Ser > EngineCC_Ser.median() + 3 * EngineCC_Ser.std(), EngineCC_Ser)"
   ]
  },
  {
   "cell_type": "code",
   "execution_count": 36,
   "metadata": {},
   "outputs": [],
   "source": [
    "# Number_of_Casualtis 基本上就是每一個 Accident ID 的 Row Count\n",
    "Data.drop(\"Number_of_Casualties\",axis = 1, inplace = True)"
   ]
  },
  {
   "cell_type": "markdown",
   "metadata": {},
   "source": [
    "### Plot Again!"
   ]
  },
  {
   "cell_type": "code",
   "execution_count": 42,
   "metadata": {
    "scrolled": false
   },
   "outputs": [
    {
     "name": "stdout",
     "output_type": "stream",
     "text": [
      "Day_of_Week  :\n",
      "\n"
     ]
    },
    {
     "data": {
      "image/png": "[encoded data removed]",
      "text/plain": [
       "<Figure size 432x288 with 1 Axes>"
      ]
     },
     "metadata": {
      "needs_background": "light"
     },
     "output_type": "display_data"
    },
    {
     "name": "stdout",
     "output_type": "stream",
     "text": [
      "1st_Road_Class  :\n",
      "\n"
     ]
    },
    {
     "data": {
      "image/png": "[encoded data removed]",
      "text/plain": [
       "<Figure size 432x288 with 1 Axes>"
      ]
     },
     "metadata": {
      "needs_background": "light"
     },
     "output_type": "display_data"
    },
    {
     "name": "stdout",
     "output_type": "stream",
     "text": [
      "Road_Type  :\n",
      "\n"
     ]
    },
    {
     "data": {
      "image/png": "[encoded data removed]",
      "text/plain": [
       "<Figure size 432x288 with 1 Axes>"
      ]
     },
     "metadata": {
      "needs_background": "light"
     },
     "output_type": "display_data"
    },
    {
     "name": "stdout",
     "output_type": "stream",
     "text": [
      "Vehicle_Location-Restricted_Lane  :\n",
      "\n"
     ]
    },
    {
     "data": {
      "image/png": "[encoded data removed]",
      "text/plain": [
       "<Figure size 432x288 with 1 Axes>"
      ]
     },
     "metadata": {
      "needs_background": "light"
     },
     "output_type": "display_data"
    },
    {
     "name": "stdout",
     "output_type": "stream",
     "text": [
      "Junction_Detail  :\n",
      "\n"
     ]
    },
    {
     "data": {
      "image/png": "[encoded data removed]",
      "text/plain": [
       "<Figure size 432x288 with 1 Axes>"
      ]
     },
     "metadata": {
      "needs_background": "light"
     },
     "output_type": "display_data"
    },
    {
     "name": "stdout",
     "output_type": "stream",
     "text": [
      "Was_Vehicle_Left_Hand_Drive?  :\n",
      "\n"
     ]
    },
    {
     "data": {
      "image/png": "[encoded data removed]",
      "text/plain": [
       "<Figure size 432x288 with 1 Axes>"
      ]
     },
     "metadata": {
      "needs_background": "light"
     },
     "output_type": "display_data"
    },
    {
     "name": "stdout",
     "output_type": "stream",
     "text": [
      "Light_Conditions  :\n",
      "\n"
     ]
    },
    {
     "data": {
      "image/png": "[encoded data removed]",
      "text/plain": [
       "<Figure size 432x288 with 1 Axes>"
      ]
     },
     "metadata": {
      "needs_background": "light"
     },
     "output_type": "display_data"
    },
    {
     "name": "stdout",
     "output_type": "stream",
     "text": [
      "Weather_Conditions  :\n",
      "\n"
     ]
    },
    {
     "data": {
      "image/png": "[encoded data removed]",
      "text/plain": [
       "<Figure size 432x288 with 1 Axes>"
      ]
     },
     "metadata": {
      "needs_background": "light"
     },
     "output_type": "display_data"
    },
    {
     "name": "stdout",
     "output_type": "stream",
     "text": [
      "Road_Surface_Conditions  :\n",
      "\n"
     ]
    },
    {
     "data": {
      "image/png": "[encoded data removed]",
      "text/plain": [
       "<Figure size 432x288 with 1 Axes>"
      ]
     },
     "metadata": {
      "needs_background": "light"
     },
     "output_type": "display_data"
    },
    {
     "name": "stdout",
     "output_type": "stream",
     "text": [
      "Special_Conditions_at_Site  :\n",
      "\n"
     ]
    },
    {
     "data": {
      "image/png": "[encoded data removed]",
      "text/plain": [
       "<Figure size 432x288 with 1 Axes>"
      ]
     },
     "metadata": {
      "needs_background": "light"
     },
     "output_type": "display_data"
    },
    {
     "name": "stdout",
     "output_type": "stream",
     "text": [
      "Carriageway_Hazards  :\n",
      "\n"
     ]
    },
    {
     "data": {
      "image/png": "[encoded data removed]",
      "text/plain": [
       "<Figure size 432x288 with 1 Axes>"
      ]
     },
     "metadata": {
      "needs_background": "light"
     },
     "output_type": "display_data"
    },
    {
     "name": "stdout",
     "output_type": "stream",
     "text": [
      "Urban_or_Rural_Area  :\n",
      "\n"
     ]
    },
    {
     "data": {
      "image/png": "[encoded data removed]",
      "text/plain": [
       "<Figure size 432x288 with 1 Axes>"
      ]
     },
     "metadata": {
      "needs_background": "light"
     },
     "output_type": "display_data"
    },
    {
     "name": "stdout",
     "output_type": "stream",
     "text": [
      "Did_Police_Officer_Attend_Scene_of_Accident  :\n",
      "\n"
     ]
    },
    {
     "data": {
      "image/png": "[encoded data removed]",
      "text/plain": [
       "<Figure size 432x288 with 1 Axes>"
      ]
     },
     "metadata": {
      "needs_background": "light"
     },
     "output_type": "display_data"
    },
    {
     "name": "stdout",
     "output_type": "stream",
     "text": [
      "Casualty_Class  :\n",
      "\n"
     ]
    },
    {
     "data": {
      "image/png": "[encoded data removed]",
      "text/plain": [
       "<Figure size 432x288 with 1 Axes>"
      ]
     },
     "metadata": {
      "needs_background": "light"
     },
     "output_type": "display_data"
    },
    {
     "name": "stdout",
     "output_type": "stream",
     "text": [
      "Sex_of_Casualty  :\n",
      "\n"
     ]
    },
    {
     "data": {
      "image/png": "[encoded data removed]",
      "text/plain": [
       "<Figure size 432x288 with 1 Axes>"
      ]
     },
     "metadata": {
      "needs_background": "light"
     },
     "output_type": "display_data"
    },
    {
     "name": "stdout",
     "output_type": "stream",
     "text": [
      "Age_Band_of_Casualty  :\n",
      "\n"
     ]
    },
    {
     "data": {
      "image/png": "[encoded data removed]",
      "text/plain": [
       "<Figure size 432x288 with 1 Axes>"
      ]
     },
     "metadata": {
      "needs_background": "light"
     },
     "output_type": "display_data"
    },
    {
     "name": "stdout",
     "output_type": "stream",
     "text": [
      "Casualty_Type  :\n",
      "\n"
     ]
    },
    {
     "data": {
      "image/png": "[encoded data removed]",
      "text/plain": [
       "<Figure size 432x288 with 1 Axes>"
      ]
     },
     "metadata": {
      "needs_background": "light"
     },
     "output_type": "display_data"
    },
    {
     "name": "stdout",
     "output_type": "stream",
     "text": [
      "Casualty_Home_Area_Type  :\n",
      "\n"
     ]
    },
    {
     "data": {
      "image/png": "[encoded data removed]",
      "text/plain": [
       "<Figure size 432x288 with 1 Axes>"
      ]
     },
     "metadata": {
      "needs_background": "light"
     },
     "output_type": "display_data"
    },
    {
     "name": "stdout",
     "output_type": "stream",
     "text": [
      "Towing_and_Articulation  :\n",
      "\n"
     ]
    },
    {
     "data": {
      "image/png": "[encoded data removed]",
      "text/plain": [
       "<Figure size 432x288 with 1 Axes>"
      ]
     },
     "metadata": {
      "needs_background": "light"
     },
     "output_type": "display_data"
    },
    {
     "name": "stdout",
     "output_type": "stream",
     "text": [
      "Vehicle_Manoeuvre  :\n",
      "\n"
     ]
    },
    {
     "data": {
      "image/png": "[encoded data removed]",
      "text/plain": [
       "<Figure size 432x288 with 1 Axes>"
      ]
     },
     "metadata": {
      "needs_background": "light"
     },
     "output_type": "display_data"
    },
    {
     "name": "stdout",
     "output_type": "stream",
     "text": [
      "Junction_Location  :\n",
      "\n"
     ]
    },
    {
     "data": {
      "image/png": "[encoded data removed]",
      "text/plain": [
       "<Figure size 432x288 with 1 Axes>"
      ]
     },
     "metadata": {
      "needs_background": "light"
     },
     "output_type": "display_data"
    },
    {
     "name": "stdout",
     "output_type": "stream",
     "text": [
      "Skidding_and_Overturning  :\n",
      "\n"
     ]
    },
    {
     "data": {
      "image/png": "[encoded data removed]",
      "text/plain": [
       "<Figure size 432x288 with 1 Axes>"
      ]
     },
     "metadata": {
      "needs_background": "light"
     },
     "output_type": "display_data"
    },
    {
     "name": "stdout",
     "output_type": "stream",
     "text": [
      "Hit_Object_in_Carriageway  :\n",
      "\n"
     ]
    },
    {
     "data": {
      "image/png": "[encoded data removed]",
      "text/plain": [
       "<Figure size 432x288 with 1 Axes>"
      ]
     },
     "metadata": {
      "needs_background": "light"
     },
     "output_type": "display_data"
    },
    {
     "name": "stdout",
     "output_type": "stream",
     "text": [
      "1st_Point_of_Impact  :\n",
      "\n"
     ]
    },
    {
     "data": {
      "image/png": "[encoded data removed]",
      "text/plain": [
       "<Figure size 432x288 with 1 Axes>"
      ]
     },
     "metadata": {
      "needs_background": "light"
     },
     "output_type": "display_data"
    },
    {
     "name": "stdout",
     "output_type": "stream",
     "text": [
      "Sex_of_Driver  :\n",
      "\n"
     ]
    },
    {
     "data": {
      "image/png": "[encoded data removed]",
      "text/plain": [
       "<Figure size 432x288 with 1 Axes>"
      ]
     },
     "metadata": {
      "needs_background": "light"
     },
     "output_type": "display_data"
    },
    {
     "name": "stdout",
     "output_type": "stream",
     "text": [
      "Age_Band_of_Driver  :\n",
      "\n"
     ]
    },
    {
     "data": {
      "image/png": "[encoded data removed]",
      "text/plain": [
       "<Figure size 432x288 with 1 Axes>"
      ]
     },
     "metadata": {
      "needs_background": "light"
     },
     "output_type": "display_data"
    },
    {
     "name": "stdout",
     "output_type": "stream",
     "text": [
      "Driver_Home_Area_Type  :\n",
      "\n"
     ]
    },
    {
     "data": {
      "image/png": "[encoded data removed]",
      "text/plain": [
       "<Figure size 432x288 with 1 Axes>"
      ]
     },
     "metadata": {
      "needs_background": "light"
     },
     "output_type": "display_data"
    },
    {
     "name": "stdout",
     "output_type": "stream",
     "text": [
      "LuckyOrNot  :\n",
      "\n"
     ]
    },
    {
     "data": {
      "image/png": "[encoded data removed]",
      "text/plain": [
       "<Figure size 432x288 with 1 Axes>"
      ]
     },
     "metadata": {
      "needs_background": "light"
     },
     "output_type": "display_data"
    }
   ],
   "source": [
    "# Discrete Varibale Conditional distribution\n",
    "def PLOT(var) :\n",
    "    global Data\n",
    "    Data[var].value_counts().sort_values().plot.barh()\n",
    "    \n",
    "for i in Data.select_dtypes(include = \"object\").columns :\n",
    "    print(i, \" :\")\n",
    "    print()\n",
    "    PLOT(i)\n",
    "    plt.show()"
   ]
  },
  {
   "cell_type": "code",
   "execution_count": 38,
   "metadata": {},
   "outputs": [
    {
     "name": "stderr",
     "output_type": "stream",
     "text": [
      "/Users/user/anaconda3/lib/python3.6/site-packages/ipykernel_launcher.py:4: UserWarning: To output multiple subplots, the figure containing the passed axes is being cleared\n",
      "  after removing the cwd from sys.path.\n"
     ]
    },
    {
     "data": {
      "text/plain": [
       "array([[<matplotlib.axes._subplots.AxesSubplot object at 0x11c621a90>,\n",
       "        <matplotlib.axes._subplots.AxesSubplot object at 0x11d23d748>,\n",
       "        <matplotlib.axes._subplots.AxesSubplot object at 0x12a63ccf8>],\n",
       "       [<matplotlib.axes._subplots.AxesSubplot object at 0x11d5bf2e8>,\n",
       "        <matplotlib.axes._subplots.AxesSubplot object at 0x12b065a90>,\n",
       "        <matplotlib.axes._subplots.AxesSubplot object at 0x11d617668>],\n",
       "       [<matplotlib.axes._subplots.AxesSubplot object at 0x11d64ac18>,\n",
       "        <matplotlib.axes._subplots.AxesSubplot object at 0x12a70e240>,\n",
       "        <matplotlib.axes._subplots.AxesSubplot object at 0x12a70e278>]],\n",
       "      dtype=object)"
      ]
     },
     "execution_count": 38,
     "metadata": {},
     "output_type": "execute_result"
    },
    {
     "data": {
      "image/png": "[encoded data removed]",
      "text/plain": [
       "<Figure size 1080x1440 with 9 Axes>"
      ]
     },
     "metadata": {
      "needs_background": "light"
     },
     "output_type": "display_data"
    }
   ],
   "source": [
    "# Numeric Var Distribution\n",
    "fig = plt.figure(figsize = (15,20))\n",
    "ax = fig.gca()\n",
    "Data.hist(ax = ax)"
   ]
  },
  {
   "cell_type": "code",
   "execution_count": 43,
   "metadata": {},
   "outputs": [],
   "source": [
    "Data.to_csv(\"/Users/user/Desktop/自動化/Data_For_Model.csv\", index = False)"
   ]
  },
  {
   "cell_type": "code",
   "execution_count": null,
   "metadata": {},
   "outputs": [],
   "source": []
  }
 ],
 "metadata": {
  "kernelspec": {
   "display_name": "Python 3",
   "language": "python",
   "name": "python3"
  },
  "language_info": {
   "codemirror_mode": {
    "name": "ipython",
    "version": 3
   },
   "file_extension": ".py",
   "mimetype": "text/x-python",
   "name": "python",
   "nbconvert_exporter": "python",
   "pygments_lexer": "ipython3",
   "version": "3.6.8"
  }
 },
 "nbformat": 4,
 "nbformat_minor": 4
}
