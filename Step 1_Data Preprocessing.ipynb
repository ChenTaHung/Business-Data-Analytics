{
 "cells": [
  {
   "cell_type": "code",
   "execution_count": 1,
   "metadata": {},
   "outputs": [
    {
     "data": {
      "text/html": [
       "<style type='text/css'>\n",
       ".datatable table.frame { margin-bottom: 0; }\n",
       ".datatable table.frame thead { border-bottom: none; }\n",
       ".datatable table.frame tr.coltypes td {  color: #FFFFFF;  line-height: 6px;  padding: 0 0.5em;}\n",
       ".datatable .boolean { background: #DDDD99; }\n",
       ".datatable .object  { background: #565656; }\n",
       ".datatable .integer { background: #5D9E5D; }\n",
       ".datatable .float   { background: #4040CC; }\n",
       ".datatable .string  { background: #CC4040; }\n",
       ".datatable .row_index {  background: var(--jp-border-color3);  border-right: 1px solid var(--jp-border-color0);  color: var(--jp-ui-font-color3);  font-size: 9px;}\n",
       ".datatable .frame tr.coltypes .row_index {  background: var(--jp-border-color0);}\n",
       ".datatable th:nth-child(2) { padding-left: 12px; }\n",
       ".datatable .hellipsis {  color: var(--jp-cell-editor-border-color);}\n",
       ".datatable .vellipsis {  background: var(--jp-layout-color0);  color: var(--jp-cell-editor-border-color);}\n",
       ".datatable .na {  color: var(--jp-cell-editor-border-color);  font-size: 80%;}\n",
       ".datatable .footer { font-size: 9px; }\n",
       ".datatable .frame_dimensions {  background: var(--jp-border-color3);  border-top: 1px solid var(--jp-border-color0);  color: var(--jp-ui-font-color3);  display: inline-block;  opacity: 0.6;  padding: 1px 10px 1px 5px;}\n",
       "</style>\n"
      ],
      "text/plain": [
       "<IPython.core.display.HTML object>"
      ]
     },
     "metadata": {},
     "output_type": "display_data"
    }
   ],
   "source": [
    "import pandas as pd\n",
    "import numpy as np\n",
    "import datatable as dt"
   ]
  },
  {
   "cell_type": "markdown",
   "metadata": {},
   "source": [
    "### Import Data"
   ]
  },
  {
   "cell_type": "code",
   "execution_count": 2,
   "metadata": {},
   "outputs": [],
   "source": [
    "Accident = dt.fread(\"/Users/user/Desktop/自動化/dft-accident-data/Accidents0515.csv\").to_pandas()\n",
    "Casualty = dt.fread(\"/Users/user/Desktop/自動化/dft-accident-data/Clean Data/Casualties.csv\").to_pandas()\n",
    "Vehicle = dt.fread(\"/Users/user/Desktop/自動化/dft-accident-data/Clean Data/Vehicles.csv\").to_pandas()"
   ]
  },
  {
   "cell_type": "markdown",
   "metadata": {},
   "source": [
    "### Merge the Three Raw Datas"
   ]
  },
  {
   "cell_type": "code",
   "execution_count": 3,
   "metadata": {},
   "outputs": [],
   "source": [
    "Total = Accident.merge(Casualty, how = \"outer\").merge(Vehicle, how = \"left\")"
   ]
  },
  {
   "cell_type": "code",
   "execution_count": 4,
   "metadata": {},
   "outputs": [],
   "source": [
    "# Total.shape"
   ]
  },
  {
   "cell_type": "code",
   "execution_count": 5,
   "metadata": {
    "scrolled": true
   },
   "outputs": [],
   "source": [
    "# Check Missing\n",
    "# Total.isnull().sum()[Total.isnull().sum() != 0]"
   ]
  },
  {
   "cell_type": "markdown",
   "metadata": {},
   "source": [
    "### Replace Values with Relational Datasets"
   ]
  },
  {
   "cell_type": "code",
   "execution_count": 6,
   "metadata": {},
   "outputs": [],
   "source": [
    "def label_map(column_name,file) :\n",
    "    df = pd.read_csv(\"/Users/user/Desktop/自動化/dft-accident-data/contextCSVs/\" + file)\n",
    "    DICT = dict(zip(df[df.columns[0]], df[df.columns[1]]))\n",
    "    global Total\n",
    "    Total[column_name] = Total[column_name].map(DICT)"
   ]
  },
  {
   "cell_type": "code",
   "execution_count": 7,
   "metadata": {},
   "outputs": [],
   "source": [
    "label_map(\"Age_Band_of_Driver\",\"Age_Band.csv\")   #Age_Band\n",
    "label_map(\"Age_Band_of_Casualty\",\"Age_Band.csv\") #Age_Band\n",
    "label_map(\"Casualty_Class\",\"Casualty_Class.csv\")\n",
    "label_map(\"Casualty_Type\",\"Casualty_Type.csv\")\n",
    "label_map(\"Day_of_Week\", \"Day_of_Week.csv\")\n",
    "label_map(\"Journey_Purpose_of_Driver\", \"Journey_Purpose.csv\")\n",
    "label_map(\"Junction_Control\", \"Junction_Control.csv\")\n",
    "label_map(\"Junction_Detail\", \"Junction_Detail.csv\")\n",
    "label_map(\"Junction_Location\", \"Junction_Location.csv\")\n",
    "label_map(\"Light_Conditions\", \"Light_Conditions.csv\")\n",
    "label_map(\"Local_Authority_(District)\", \"Local_Authority_District.csv\")\n",
    "label_map(\"Local_Authority_(Highway)\", \"Local_Authority_Highway.csv\")\n",
    "label_map(\"Pedestrian_Crossing-Human_Control\", \"Ped_Cross_Human.csv\")\n",
    "label_map(\"Pedestrian_Crossing-Physical_Facilities\", \"Ped_Cross_Physical.csv\")\n",
    "label_map(\"Pedestrian_Location\", \"Ped_Location.csv\")\n",
    "label_map(\"Pedestrian_Movement\", \"Ped_Movement.csv\")\n",
    "label_map(\"1st_Point_of_Impact\", \"Point_of_Impact.csv\")\n",
    "label_map(\"Police_Force\",\"Police_Force.csv\")\n",
    "label_map(\"Did_Police_Officer_Attend_Scene_of_Accident\", \"Police_Officer_Attend.csv\")\n",
    "label_map(\"1st_Road_Class\", \"Road_Class.csv\") #Road_Class\n",
    "label_map(\"2nd_Road_Class\", \"Road_Class.csv\") #Road_Class\n",
    "label_map(\"Road_Type\", \"Road_Type.csv\")\n",
    "label_map(\"Sex_of_Driver\", \"Sex_of_Driver.csv\")\n",
    "label_map(\"Sex_of_Casualty\", \"Sex_of_Driver.csv\")\n",
    "label_map(\"Urban_or_Rural_Area\", \"Urban_Rural.csv\")\n",
    "label_map(\"Vehicle_Location-Restricted_Lane\", \"Vehicle_Location.csv\")\n",
    "label_map(\"Vehicle_Manoeuvre\", \"Vehicle_Manoeuvre.csv\")\n",
    "label_map(\"Vehicle_Type\", \"Vehicle_Type.csv\")"
   ]
  },
  {
   "cell_type": "markdown",
   "metadata": {},
   "source": [
    "### Create Response Term"
   ]
  },
  {
   "cell_type": "code",
   "execution_count": 8,
   "metadata": {
    "scrolled": false
   },
   "outputs": [],
   "source": [
    "# code,label\n",
    "# 1,Fatal\n",
    "# 2,Serious\n",
    "# 3,Slight\n",
    "\n",
    "Total[\"Diff_ASCS\"] = Total.Accident_Severity - Total.Casualty_Severity\n",
    "Total[\"LuckyOrNot\"] = Total.Diff_ASCS.map({0:\"UnLucky\", -1: \"Lucky\", -2 : \"Lucky\"})\n",
    "Total.drop([\"Diff_ASCS\", \"Accident_Severity\", \"Casualty_Severity\"], axis = 1, inplace = True)\n",
    "# Total.head()"
   ]
  },
  {
   "cell_type": "markdown",
   "metadata": {},
   "source": [
    "### Drop No Use Columns"
   ]
  },
  {
   "cell_type": "code",
   "execution_count": 9,
   "metadata": {},
   "outputs": [],
   "source": [
    "Total.drop([\"Accident_Index\", \"Time\", \"Date\", \n",
    "            \"Location_Easting_OSGR\",\n",
    "            \"Location_Northing_OSGR\", \"Longitude\", \"Latitude\"], axis = 1, inplace = True) "
   ]
  },
  {
   "cell_type": "markdown",
   "metadata": {},
   "source": [
    "### Confirm Column Types"
   ]
  },
  {
   "cell_type": "code",
   "execution_count": 10,
   "metadata": {},
   "outputs": [],
   "source": [
    "# 需要用到的變數並且分類成類別或是數值\n",
    "DiscreteVar = [\"Police_Force\", \"Day_of_Week\", \"1st_Road_Class\", \"Road_Type\", \"Vehicle_Location-Restricted_Lane\",\n",
    "               \"Junction_Detail\", \"Junction_Control\", \"2nd_Road_Class\", \"Was_Vehicle_Left_Hand_Drive?\",\n",
    "               \"Pedestrian_Crossing-Physical_Facilities\", \"Light_Conditions\", \"Weather_Conditions\",\n",
    "               \"Road_Surface_Conditions\", \"Special_Conditions_at_Site\", \"Carriageway_Hazards\", \"Journey_Purpose_of_Driver\",\n",
    "               \"Urban_or_Rural_Area\", \"Did_Police_Officer_Attend_Scene_of_Accident\", \"Casualty_Class\", \n",
    "               \"Sex_of_Casualty\", \"Age_Band_of_Casualty\", \"Casualty_Type\", \"Pedestrian_Crossing-Human_Control\", \n",
    "               \"Pedestrian_Location\", \"Pedestrian_Movement\", \"Casualty_Home_Area_Type\", \"Vehicle_Type\", \n",
    "               \"Towing_and_Articulation\", \"Vehicle_Manoeuvre\" ,\"Junction_Location\", \"Skidding_and_Overturning\",\n",
    "               \"Hit_Object_in_Carriageway\", \"1st_Point_of_Impact\", \"Sex_of_Driver\", \"Age_Band_of_Driver\", \n",
    "               \"Propulsion_Code\", \"Driver_IMD_Decile\", \"Driver_Home_Area_Type\", \"LuckyOrNot\"]\n",
    "\n",
    "NumericVar = [\"Number_of_Vehicles\", \"Number_of_Casualties\", \"Speed_limit\", \"Age_of_Casualty\", \n",
    "              \"Car_Passenger\", \"Bus_or_Coach_Passenger\", \"Pedestrian_Road_Maintenance_Worker\",\n",
    "              \"Age_of_Driver\", \"Engine_Capacity_(CC)\", \"Age_of_Vehicle\"]"
   ]
  },
  {
   "cell_type": "code",
   "execution_count": 11,
   "metadata": {},
   "outputs": [],
   "source": [
    "DF = Total[DiscreteVar + NumericVar]"
   ]
  },
  {
   "cell_type": "code",
   "execution_count": 12,
   "metadata": {},
   "outputs": [],
   "source": [
    "pd.options.mode.chained_assignment = None"
   ]
  },
  {
   "cell_type": "code",
   "execution_count": 13,
   "metadata": {},
   "outputs": [],
   "source": [
    "def COL_DROP_RET():\n",
    "    ser = DF[DiscreteVar].apply(lambda x : len(x.value_counts()))\n",
    "    ColumnsToDrop = list(ser.index[ser >= 25])\n",
    "    return ColumnsToDrop\n",
    "\n",
    "drop_list = COL_DROP_RET()\n",
    "DF.drop(labels = drop_list, axis = 1, inplace = True)"
   ]
  },
  {
   "cell_type": "markdown",
   "metadata": {},
   "source": [
    "### Replace Missing Values to -999"
   ]
  },
  {
   "cell_type": "code",
   "execution_count": 14,
   "metadata": {},
   "outputs": [],
   "source": [
    "NA_Labels = [-1, \"Unknown\", \"\", \"nan\", \"Total missing or out of range\" ,\n",
    "             \"Other/Not known (2005-10)\", \"Data missing or out of range\",\n",
    "             \"data missing\", np.nan, \"Not known\"]\n",
    "DF.replace(to_replace = NA_Labels, value = -999, inplace = True)"
   ]
  },
  {
   "cell_type": "markdown",
   "metadata": {},
   "source": [
    "### Output Data"
   ]
  },
  {
   "cell_type": "code",
   "execution_count": 16,
   "metadata": {},
   "outputs": [
    {
     "data": {
      "text/plain": [
       "(2402909, 48)"
      ]
     },
     "execution_count": 16,
     "metadata": {},
     "output_type": "execute_result"
    }
   ],
   "source": [
    "DF.shape"
   ]
  },
  {
   "cell_type": "code",
   "execution_count": 17,
   "metadata": {},
   "outputs": [
    {
     "data": {
      "text/html": [
       "<div>\n",
       "<style scoped>\n",
       "    .dataframe tbody tr th:only-of-type {\n",
       "        vertical-align: middle;\n",
       "    }\n",
       "\n",
       "    .dataframe tbody tr th {\n",
       "        vertical-align: top;\n",
       "    }\n",
       "\n",
       "    .dataframe thead th {\n",
       "        text-align: right;\n",
       "    }\n",
       "</style>\n",
       "<table border=\"1\" class=\"dataframe\">\n",
       "  <thead>\n",
       "    <tr style=\"text-align: right;\">\n",
       "      <th></th>\n",
       "      <th>Day_of_Week</th>\n",
       "      <th>1st_Road_Class</th>\n",
       "      <th>Road_Type</th>\n",
       "      <th>Vehicle_Location-Restricted_Lane</th>\n",
       "      <th>Junction_Detail</th>\n",
       "      <th>Junction_Control</th>\n",
       "      <th>2nd_Road_Class</th>\n",
       "      <th>Was_Vehicle_Left_Hand_Drive?</th>\n",
       "      <th>Pedestrian_Crossing-Physical_Facilities</th>\n",
       "      <th>Light_Conditions</th>\n",
       "      <th>...</th>\n",
       "      <th>Number_of_Vehicles</th>\n",
       "      <th>Number_of_Casualties</th>\n",
       "      <th>Speed_limit</th>\n",
       "      <th>Age_of_Casualty</th>\n",
       "      <th>Car_Passenger</th>\n",
       "      <th>Bus_or_Coach_Passenger</th>\n",
       "      <th>Pedestrian_Road_Maintenance_Worker</th>\n",
       "      <th>Age_of_Driver</th>\n",
       "      <th>Engine_Capacity_(CC)</th>\n",
       "      <th>Age_of_Vehicle</th>\n",
       "    </tr>\n",
       "  </thead>\n",
       "  <tbody>\n",
       "    <tr>\n",
       "      <th>0</th>\n",
       "      <td>Tuesday</td>\n",
       "      <td>A</td>\n",
       "      <td>Single carriageway</td>\n",
       "      <td>On main c'way - not in restricted lane</td>\n",
       "      <td>Not at junction or within 20 metres</td>\n",
       "      <td>-999</td>\n",
       "      <td>-999</td>\n",
       "      <td>1</td>\n",
       "      <td>Zebra</td>\n",
       "      <td>Daylight</td>\n",
       "      <td>...</td>\n",
       "      <td>1</td>\n",
       "      <td>1</td>\n",
       "      <td>30</td>\n",
       "      <td>37</td>\n",
       "      <td>0</td>\n",
       "      <td>0</td>\n",
       "      <td>-999</td>\n",
       "      <td>74</td>\n",
       "      <td>-999</td>\n",
       "      <td>-999</td>\n",
       "    </tr>\n",
       "    <tr>\n",
       "      <th>1</th>\n",
       "      <td>Wednesday</td>\n",
       "      <td>B</td>\n",
       "      <td>Dual carriageway</td>\n",
       "      <td>On main c'way - not in restricted lane</td>\n",
       "      <td>Crossroads</td>\n",
       "      <td>Auto traffic signal</td>\n",
       "      <td>C</td>\n",
       "      <td>1</td>\n",
       "      <td>Pedestrian phase at traffic signal junction</td>\n",
       "      <td>Darkness - lights lit</td>\n",
       "      <td>...</td>\n",
       "      <td>1</td>\n",
       "      <td>1</td>\n",
       "      <td>30</td>\n",
       "      <td>37</td>\n",
       "      <td>0</td>\n",
       "      <td>4</td>\n",
       "      <td>-999</td>\n",
       "      <td>42</td>\n",
       "      <td>8268</td>\n",
       "      <td>3</td>\n",
       "    </tr>\n",
       "    <tr>\n",
       "      <th>2</th>\n",
       "      <td>Thursday</td>\n",
       "      <td>C</td>\n",
       "      <td>Single carriageway</td>\n",
       "      <td>On main c'way - not in restricted lane</td>\n",
       "      <td>Not at junction or within 20 metres</td>\n",
       "      <td>-999</td>\n",
       "      <td>-999</td>\n",
       "      <td>1</td>\n",
       "      <td>No physical crossing facilities within 50 metres</td>\n",
       "      <td>Darkness - lights lit</td>\n",
       "      <td>...</td>\n",
       "      <td>2</td>\n",
       "      <td>1</td>\n",
       "      <td>30</td>\n",
       "      <td>62</td>\n",
       "      <td>0</td>\n",
       "      <td>0</td>\n",
       "      <td>-999</td>\n",
       "      <td>62</td>\n",
       "      <td>1762</td>\n",
       "      <td>6</td>\n",
       "    </tr>\n",
       "    <tr>\n",
       "      <th>3</th>\n",
       "      <td>Friday</td>\n",
       "      <td>A</td>\n",
       "      <td>Single carriageway</td>\n",
       "      <td>On main c'way - not in restricted lane</td>\n",
       "      <td>Not at junction or within 20 metres</td>\n",
       "      <td>-999</td>\n",
       "      <td>-999</td>\n",
       "      <td>1</td>\n",
       "      <td>No physical crossing facilities within 50 metres</td>\n",
       "      <td>Daylight</td>\n",
       "      <td>...</td>\n",
       "      <td>1</td>\n",
       "      <td>1</td>\n",
       "      <td>30</td>\n",
       "      <td>30</td>\n",
       "      <td>0</td>\n",
       "      <td>0</td>\n",
       "      <td>-999</td>\n",
       "      <td>49</td>\n",
       "      <td>1769</td>\n",
       "      <td>4</td>\n",
       "    </tr>\n",
       "    <tr>\n",
       "      <th>4</th>\n",
       "      <td>Monday</td>\n",
       "      <td>Unclassified</td>\n",
       "      <td>Single carriageway</td>\n",
       "      <td>On main c'way - not in restricted lane</td>\n",
       "      <td>Not at junction or within 20 metres</td>\n",
       "      <td>-999</td>\n",
       "      <td>-999</td>\n",
       "      <td>1</td>\n",
       "      <td>No physical crossing facilities within 50 metres</td>\n",
       "      <td>Darkness - lighting unknown</td>\n",
       "      <td>...</td>\n",
       "      <td>1</td>\n",
       "      <td>1</td>\n",
       "      <td>30</td>\n",
       "      <td>49</td>\n",
       "      <td>0</td>\n",
       "      <td>0</td>\n",
       "      <td>-999</td>\n",
       "      <td>49</td>\n",
       "      <td>85</td>\n",
       "      <td>10</td>\n",
       "    </tr>\n",
       "  </tbody>\n",
       "</table>\n",
       "<p>5 rows × 48 columns</p>\n",
       "</div>"
      ],
      "text/plain": [
       "  Day_of_Week 1st_Road_Class           Road_Type  \\\n",
       "0     Tuesday              A  Single carriageway   \n",
       "1   Wednesday              B    Dual carriageway   \n",
       "2    Thursday              C  Single carriageway   \n",
       "3      Friday              A  Single carriageway   \n",
       "4      Monday   Unclassified  Single carriageway   \n",
       "\n",
       "         Vehicle_Location-Restricted_Lane  \\\n",
       "0  On main c'way - not in restricted lane   \n",
       "1  On main c'way - not in restricted lane   \n",
       "2  On main c'way - not in restricted lane   \n",
       "3  On main c'way - not in restricted lane   \n",
       "4  On main c'way - not in restricted lane   \n",
       "\n",
       "                       Junction_Detail     Junction_Control 2nd_Road_Class  \\\n",
       "0  Not at junction or within 20 metres                 -999           -999   \n",
       "1                           Crossroads  Auto traffic signal              C   \n",
       "2  Not at junction or within 20 metres                 -999           -999   \n",
       "3  Not at junction or within 20 metres                 -999           -999   \n",
       "4  Not at junction or within 20 metres                 -999           -999   \n",
       "\n",
       "   Was_Vehicle_Left_Hand_Drive?  \\\n",
       "0                             1   \n",
       "1                             1   \n",
       "2                             1   \n",
       "3                             1   \n",
       "4                             1   \n",
       "\n",
       "            Pedestrian_Crossing-Physical_Facilities  \\\n",
       "0                                             Zebra   \n",
       "1       Pedestrian phase at traffic signal junction   \n",
       "2  No physical crossing facilities within 50 metres   \n",
       "3  No physical crossing facilities within 50 metres   \n",
       "4  No physical crossing facilities within 50 metres   \n",
       "\n",
       "              Light_Conditions  ...  Number_of_Vehicles  Number_of_Casualties  \\\n",
       "0                     Daylight  ...                   1                     1   \n",
       "1        Darkness - lights lit  ...                   1                     1   \n",
       "2        Darkness - lights lit  ...                   2                     1   \n",
       "3                     Daylight  ...                   1                     1   \n",
       "4  Darkness - lighting unknown  ...                   1                     1   \n",
       "\n",
       "   Speed_limit  Age_of_Casualty Car_Passenger Bus_or_Coach_Passenger  \\\n",
       "0           30               37             0                      0   \n",
       "1           30               37             0                      4   \n",
       "2           30               62             0                      0   \n",
       "3           30               30             0                      0   \n",
       "4           30               49             0                      0   \n",
       "\n",
       "  Pedestrian_Road_Maintenance_Worker Age_of_Driver Engine_Capacity_(CC)  \\\n",
       "0                               -999            74                 -999   \n",
       "1                               -999            42                 8268   \n",
       "2                               -999            62                 1762   \n",
       "3                               -999            49                 1769   \n",
       "4                               -999            49                   85   \n",
       "\n",
       "  Age_of_Vehicle  \n",
       "0           -999  \n",
       "1              3  \n",
       "2              6  \n",
       "3              4  \n",
       "4             10  \n",
       "\n",
       "[5 rows x 48 columns]"
      ]
     },
     "execution_count": 17,
     "metadata": {},
     "output_type": "execute_result"
    }
   ],
   "source": [
    "DF.head()"
   ]
  },
  {
   "cell_type": "code",
   "execution_count": 16,
   "metadata": {},
   "outputs": [],
   "source": [
    "DF.to_csv(\"/Users/user/Desktop/自動化/Response Data.csv\", index = False)"
   ]
  },
  {
   "cell_type": "code",
   "execution_count": null,
   "metadata": {},
   "outputs": [],
   "source": []
  }
 ],
 "metadata": {
  "kernelspec": {
   "display_name": "Python 3",
   "language": "python",
   "name": "python3"
  },
  "language_info": {
   "codemirror_mode": {
    "name": "ipython",
    "version": 3
   },
   "file_extension": ".py",
   "mimetype": "text/x-python",
   "name": "python",
   "nbconvert_exporter": "python",
   "pygments_lexer": "ipython3",
   "version": "3.6.8"
  }
 },
 "nbformat": 4,
 "nbformat_minor": 2
}
