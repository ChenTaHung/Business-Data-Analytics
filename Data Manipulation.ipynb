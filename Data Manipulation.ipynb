{
 "cells": [
  {
   "cell_type": "code",
   "execution_count": 1,
   "metadata": {},
   "outputs": [
    {
     "data": {
      "text/html": [
       "<style type='text/css'>\n",
       ".datatable table.frame { margin-bottom: 0; }\n",
       ".datatable table.frame thead { border-bottom: none; }\n",
       ".datatable table.frame tr.coltypes td {  color: #FFFFFF;  line-height: 6px;  padding: 0 0.5em;}\n",
       ".datatable .boolean { background: #DDDD99; }\n",
       ".datatable .object  { background: #565656; }\n",
       ".datatable .integer { background: #5D9E5D; }\n",
       ".datatable .float   { background: #4040CC; }\n",
       ".datatable .string  { background: #CC4040; }\n",
       ".datatable .row_index {  background: var(--jp-border-color3);  border-right: 1px solid var(--jp-border-color0);  color: var(--jp-ui-font-color3);  font-size: 9px;}\n",
       ".datatable .frame tr.coltypes .row_index {  background: var(--jp-border-color0);}\n",
       ".datatable th:nth-child(2) { padding-left: 12px; }\n",
       ".datatable .hellipsis {  color: var(--jp-cell-editor-border-color);}\n",
       ".datatable .vellipsis {  background: var(--jp-layout-color0);  color: var(--jp-cell-editor-border-color);}\n",
       ".datatable .na {  color: var(--jp-cell-editor-border-color);  font-size: 80%;}\n",
       ".datatable .footer { font-size: 9px; }\n",
       ".datatable .frame_dimensions {  background: var(--jp-border-color3);  border-top: 1px solid var(--jp-border-color0);  color: var(--jp-ui-font-color3);  display: inline-block;  opacity: 0.6;  padding: 1px 10px 1px 5px;}\n",
       "</style>\n"
      ],
      "text/plain": [
       "<IPython.core.display.HTML object>"
      ]
     },
     "metadata": {},
     "output_type": "display_data"
    }
   ],
   "source": [
    "import pandas as pd\n",
    "import numpy as np\n",
    "import datatable as dt\n",
    "import matplotlib.pyplot as plt"
   ]
  },
  {
   "cell_type": "code",
   "execution_count": 2,
   "metadata": {},
   "outputs": [],
   "source": [
    "DF = dt.fread(\"/Users/user/Desktop/自動化/Response Data.csv\").to_pandas()"
   ]
  },
  {
   "cell_type": "markdown",
   "metadata": {},
   "source": [
    "### Convert Data Types"
   ]
  },
  {
   "cell_type": "code",
   "execution_count": 3,
   "metadata": {},
   "outputs": [
    {
     "data": {
      "text/html": [
       "<div>\n",
       "<style scoped>\n",
       "    .dataframe tbody tr th:only-of-type {\n",
       "        vertical-align: middle;\n",
       "    }\n",
       "\n",
       "    .dataframe tbody tr th {\n",
       "        vertical-align: top;\n",
       "    }\n",
       "\n",
       "    .dataframe thead th {\n",
       "        text-align: right;\n",
       "    }\n",
       "</style>\n",
       "<table border=\"1\" class=\"dataframe\">\n",
       "  <thead>\n",
       "    <tr style=\"text-align: right;\">\n",
       "      <th></th>\n",
       "      <th>Accident_Index</th>\n",
       "      <th>Police_Force</th>\n",
       "      <th>Accident_Severity</th>\n",
       "      <th>Number_of_Vehicles</th>\n",
       "      <th>Number_of_Casualties</th>\n",
       "      <th>Date</th>\n",
       "      <th>Day_of_Week</th>\n",
       "      <th>Time</th>\n",
       "      <th>Local_Authority_(District)</th>\n",
       "      <th>Local_Authority_(Highway)</th>\n",
       "      <th>...</th>\n",
       "      <th>Sex_of_Driver</th>\n",
       "      <th>Age_of_Driver</th>\n",
       "      <th>Age_Band_of_Driver</th>\n",
       "      <th>Engine_Capacity_(CC)</th>\n",
       "      <th>Propulsion_Code</th>\n",
       "      <th>Age_of_Vehicle</th>\n",
       "      <th>Driver_IMD_Decile</th>\n",
       "      <th>Driver_Home_Area_Type</th>\n",
       "      <th>Diff_ASCS</th>\n",
       "      <th>LuckyOrNot</th>\n",
       "    </tr>\n",
       "  </thead>\n",
       "  <tbody>\n",
       "    <tr>\n",
       "      <th>0</th>\n",
       "      <td>200501BS00001</td>\n",
       "      <td>Metropolitan Police</td>\n",
       "      <td>Serious</td>\n",
       "      <td>1</td>\n",
       "      <td>1</td>\n",
       "      <td>04/01/2005</td>\n",
       "      <td>Tuesday</td>\n",
       "      <td>17:42</td>\n",
       "      <td>Kensington and Chelsea</td>\n",
       "      <td>Kensington and Chelsea</td>\n",
       "      <td>...</td>\n",
       "      <td>Female</td>\n",
       "      <td>74.0</td>\n",
       "      <td>66 - 75</td>\n",
       "      <td>NaN</td>\n",
       "      <td>nan</td>\n",
       "      <td>NaN</td>\n",
       "      <td>7.0</td>\n",
       "      <td>1.0</td>\n",
       "      <td>0</td>\n",
       "      <td>UnLucky</td>\n",
       "    </tr>\n",
       "    <tr>\n",
       "      <th>1</th>\n",
       "      <td>200501BS00002</td>\n",
       "      <td>Metropolitan Police</td>\n",
       "      <td>Slight</td>\n",
       "      <td>1</td>\n",
       "      <td>1</td>\n",
       "      <td>05/01/2005</td>\n",
       "      <td>Wednesday</td>\n",
       "      <td>17:36</td>\n",
       "      <td>Kensington and Chelsea</td>\n",
       "      <td>Kensington and Chelsea</td>\n",
       "      <td>...</td>\n",
       "      <td>Male</td>\n",
       "      <td>42.0</td>\n",
       "      <td>36 - 45</td>\n",
       "      <td>8268.0</td>\n",
       "      <td>2.0</td>\n",
       "      <td>3.0</td>\n",
       "      <td>nan</td>\n",
       "      <td>nan</td>\n",
       "      <td>0</td>\n",
       "      <td>UnLucky</td>\n",
       "    </tr>\n",
       "    <tr>\n",
       "      <th>2</th>\n",
       "      <td>200501BS00003</td>\n",
       "      <td>Metropolitan Police</td>\n",
       "      <td>Slight</td>\n",
       "      <td>2</td>\n",
       "      <td>1</td>\n",
       "      <td>06/01/2005</td>\n",
       "      <td>Thursday</td>\n",
       "      <td>00:15</td>\n",
       "      <td>Kensington and Chelsea</td>\n",
       "      <td>Kensington and Chelsea</td>\n",
       "      <td>...</td>\n",
       "      <td>Male</td>\n",
       "      <td>62.0</td>\n",
       "      <td>56 - 65</td>\n",
       "      <td>1762.0</td>\n",
       "      <td>1.0</td>\n",
       "      <td>6.0</td>\n",
       "      <td>1.0</td>\n",
       "      <td>1.0</td>\n",
       "      <td>0</td>\n",
       "      <td>UnLucky</td>\n",
       "    </tr>\n",
       "  </tbody>\n",
       "</table>\n",
       "<p>3 rows × 64 columns</p>\n",
       "</div>"
      ],
      "text/plain": [
       "  Accident_Index         Police_Force Accident_Severity  Number_of_Vehicles  \\\n",
       "0  200501BS00001  Metropolitan Police           Serious                   1   \n",
       "1  200501BS00002  Metropolitan Police            Slight                   1   \n",
       "2  200501BS00003  Metropolitan Police            Slight                   2   \n",
       "\n",
       "   Number_of_Casualties        Date Day_of_Week   Time  \\\n",
       "0                     1  04/01/2005     Tuesday  17:42   \n",
       "1                     1  05/01/2005   Wednesday  17:36   \n",
       "2                     1  06/01/2005    Thursday  00:15   \n",
       "\n",
       "  Local_Authority_(District) Local_Authority_(Highway)  ... Sex_of_Driver  \\\n",
       "0     Kensington and Chelsea    Kensington and Chelsea  ...        Female   \n",
       "1     Kensington and Chelsea    Kensington and Chelsea  ...          Male   \n",
       "2     Kensington and Chelsea    Kensington and Chelsea  ...          Male   \n",
       "\n",
       "   Age_of_Driver Age_Band_of_Driver  Engine_Capacity_(CC) Propulsion_Code  \\\n",
       "0           74.0            66 - 75                   NaN             nan   \n",
       "1           42.0            36 - 45                8268.0             2.0   \n",
       "2           62.0            56 - 65                1762.0             1.0   \n",
       "\n",
       "  Age_of_Vehicle Driver_IMD_Decile  Driver_Home_Area_Type Diff_ASCS LuckyOrNot  \n",
       "0            NaN               7.0                    1.0         0    UnLucky  \n",
       "1            3.0               nan                    nan         0    UnLucky  \n",
       "2            6.0               1.0                    1.0         0    UnLucky  \n",
       "\n",
       "[3 rows x 64 columns]"
      ]
     },
     "execution_count": 3,
     "metadata": {},
     "output_type": "execute_result"
    }
   ],
   "source": [
    "def to_string(var) :\n",
    "    global DF \n",
    "    DF[var] = DF[var].astype(str)\n",
    "\n",
    "to_string(\"Weather_Conditions\")\n",
    "to_string(\"Road_Surface_Conditions\")\n",
    "to_string(\"Special_Conditions_at_Site\")\n",
    "to_string(\"Carriageway_Hazards\")\n",
    "to_string(\"Pedestrian_Road_Maintenance_Worker\")\n",
    "to_string(\"Casualty_Home_Area_Type\")\n",
    "to_string(\"Skidding_and_Overturning\")\n",
    "to_string(\"Hit_Object_in_Carriageway\")\n",
    "to_string(\"Vehicle_Leaving_Carriageway\")\n",
    "to_string(\"Hit_Object_off_Carriageway\")\n",
    "to_string(\"Was_Vehicle_Left_Hand_Drive?\")\n",
    "to_string(\"Propulsion_Code\")\n",
    "to_string(\"Driver_IMD_Decile\")\n",
    "to_string(\"Driver_Home_Area_Type\")\n",
    "to_string(\"Diff_ASCS\")\n",
    "to_string(\"Towing_and_Articulation\")\n",
    "to_string(\"Casualty_Reference\")\n",
    "to_string(\"Vehicle_Reference\")\n",
    "\n",
    "DF.head(3)"
   ]
  },
  {
   "cell_type": "markdown",
   "metadata": {},
   "source": [
    "### Drop High Dimension Discrete Columns"
   ]
  },
  {
   "cell_type": "code",
   "execution_count": 4,
   "metadata": {
    "scrolled": true
   },
   "outputs": [],
   "source": [
    "def COL_DROP_RET():\n",
    "    ser = DF.select_dtypes(include = [\"object\"]).apply(lambda x : len(x.value_counts()))\n",
    "    ColumnsToDrop = list(ser.index[ser >= 25])\n",
    "    return ColumnsToDrop"
   ]
  },
  {
   "cell_type": "code",
   "execution_count": 5,
   "metadata": {},
   "outputs": [],
   "source": [
    "drop_list = COL_DROP_RET()\n",
    "DF.drop(labels = drop_list, axis = 1, inplace = True)"
   ]
  },
  {
   "cell_type": "markdown",
   "metadata": {},
   "source": [
    "### Drop No Use Numeric Variables"
   ]
  },
  {
   "cell_type": "code",
   "execution_count": 7,
   "metadata": {},
   "outputs": [
    {
     "data": {
      "text/plain": [
       "array([[<matplotlib.axes._subplots.AxesSubplot object at 0x13f8755c0>,\n",
       "        <matplotlib.axes._subplots.AxesSubplot object at 0x1674d8ba8>]],\n",
       "      dtype=object)"
      ]
     },
     "execution_count": 7,
     "metadata": {},
     "output_type": "execute_result"
    },
    {
     "data": {
      "image/png": "[encoded data removed]",
      "text/plain": [
       "<Figure size 432x288 with 2 Axes>"
      ]
     },
     "metadata": {
      "needs_background": "light"
     },
     "output_type": "display_data"
    }
   ],
   "source": [
    "DF[[\"2nd_Road_Number\", \"1st_Road_Number\"]].hist() \n",
    "# BOTH DROP"
   ]
  },
  {
   "cell_type": "code",
   "execution_count": 8,
   "metadata": {},
   "outputs": [
    {
     "data": {
      "text/html": [
       "<div>\n",
       "<style scoped>\n",
       "    .dataframe tbody tr th:only-of-type {\n",
       "        vertical-align: middle;\n",
       "    }\n",
       "\n",
       "    .dataframe tbody tr th {\n",
       "        vertical-align: top;\n",
       "    }\n",
       "\n",
       "    .dataframe thead th {\n",
       "        text-align: right;\n",
       "    }\n",
       "</style>\n",
       "<table border=\"1\" class=\"dataframe\">\n",
       "  <thead>\n",
       "    <tr style=\"text-align: right;\">\n",
       "      <th>LuckyOrNot</th>\n",
       "      <th>Lucky</th>\n",
       "      <th>UnLucky</th>\n",
       "    </tr>\n",
       "    <tr>\n",
       "      <th>Bus_or_Coach_Passenger</th>\n",
       "      <th></th>\n",
       "      <th></th>\n",
       "    </tr>\n",
       "  </thead>\n",
       "  <tbody>\n",
       "    <tr>\n",
       "      <th>0.0</th>\n",
       "      <td>0.957278</td>\n",
       "      <td>1.422129</td>\n",
       "    </tr>\n",
       "    <tr>\n",
       "      <th>1.0</th>\n",
       "      <td>0.000264</td>\n",
       "      <td>0.002468</td>\n",
       "    </tr>\n",
       "    <tr>\n",
       "      <th>2.0</th>\n",
       "      <td>0.000594</td>\n",
       "      <td>0.002395</td>\n",
       "    </tr>\n",
       "    <tr>\n",
       "      <th>3.0</th>\n",
       "      <td>0.002780</td>\n",
       "      <td>0.010532</td>\n",
       "    </tr>\n",
       "    <tr>\n",
       "      <th>4.0</th>\n",
       "      <td>0.038943</td>\n",
       "      <td>0.021806</td>\n",
       "    </tr>\n",
       "  </tbody>\n",
       "</table>\n",
       "</div>"
      ],
      "text/plain": [
       "LuckyOrNot                 Lucky   UnLucky\n",
       "Bus_or_Coach_Passenger                    \n",
       "0.0                     0.957278  1.422129\n",
       "1.0                     0.000264  0.002468\n",
       "2.0                     0.000594  0.002395\n",
       "3.0                     0.002780  0.010532\n",
       "4.0                     0.038943  0.021806"
      ]
     },
     "execution_count": 8,
     "metadata": {},
     "output_type": "execute_result"
    },
    {
     "data": {
      "image/png": "[encoded data removed]",
      "text/plain": [
       "<Figure size 432x288 with 1 Axes>"
      ]
     },
     "metadata": {
      "needs_background": "light"
     },
     "output_type": "display_data"
    }
   ],
   "source": [
    "DF.groupby([\"LuckyOrNot\"])[\"Bus_or_Coach_Passenger\"].value_counts().unstack().plot.bar()\n",
    "DF.groupby([\"LuckyOrNot\"])[\"Bus_or_Coach_Passenger\"].value_counts().unstack().T.divide([106105, 1573842])\n",
    "# DROP!"
   ]
  },
  {
   "cell_type": "code",
   "execution_count": 9,
   "metadata": {},
   "outputs": [
    {
     "data": {
      "text/html": [
       "<div>\n",
       "<style scoped>\n",
       "    .dataframe tbody tr th:only-of-type {\n",
       "        vertical-align: middle;\n",
       "    }\n",
       "\n",
       "    .dataframe tbody tr th {\n",
       "        vertical-align: top;\n",
       "    }\n",
       "\n",
       "    .dataframe thead th {\n",
       "        text-align: right;\n",
       "    }\n",
       "</style>\n",
       "<table border=\"1\" class=\"dataframe\">\n",
       "  <thead>\n",
       "    <tr style=\"text-align: right;\">\n",
       "      <th>LuckyOrNot</th>\n",
       "      <th>Lucky</th>\n",
       "      <th>UnLucky</th>\n",
       "    </tr>\n",
       "    <tr>\n",
       "      <th>Towing_and_Articulation</th>\n",
       "      <th></th>\n",
       "      <th></th>\n",
       "    </tr>\n",
       "  </thead>\n",
       "  <tbody>\n",
       "    <tr>\n",
       "      <th>0.0</th>\n",
       "      <td>0.985788</td>\n",
       "      <td>1.450351</td>\n",
       "    </tr>\n",
       "    <tr>\n",
       "      <th>1.0</th>\n",
       "      <td>0.007634</td>\n",
       "      <td>0.004471</td>\n",
       "    </tr>\n",
       "    <tr>\n",
       "      <th>2.0</th>\n",
       "      <td>0.000151</td>\n",
       "      <td>0.000215</td>\n",
       "    </tr>\n",
       "    <tr>\n",
       "      <th>3.0</th>\n",
       "      <td>0.001508</td>\n",
       "      <td>0.000852</td>\n",
       "    </tr>\n",
       "    <tr>\n",
       "      <th>4.0</th>\n",
       "      <td>0.003921</td>\n",
       "      <td>0.002596</td>\n",
       "    </tr>\n",
       "    <tr>\n",
       "      <th>5.0</th>\n",
       "      <td>0.000952</td>\n",
       "      <td>0.000723</td>\n",
       "    </tr>\n",
       "    <tr>\n",
       "      <th>nan</th>\n",
       "      <td>0.000047</td>\n",
       "      <td>0.000153</td>\n",
       "    </tr>\n",
       "  </tbody>\n",
       "</table>\n",
       "</div>"
      ],
      "text/plain": [
       "LuckyOrNot                  Lucky   UnLucky\n",
       "Towing_and_Articulation                    \n",
       "0.0                      0.985788  1.450351\n",
       "1.0                      0.007634  0.004471\n",
       "2.0                      0.000151  0.000215\n",
       "3.0                      0.001508  0.000852\n",
       "4.0                      0.003921  0.002596\n",
       "5.0                      0.000952  0.000723\n",
       "nan                      0.000047  0.000153"
      ]
     },
     "execution_count": 9,
     "metadata": {},
     "output_type": "execute_result"
    }
   ],
   "source": [
    "DF.groupby([\"LuckyOrNot\"])[\"Towing_and_Articulation\"].value_counts().unstack().T.divide([106105, 1573842])\n",
    "# DROP!"
   ]
  },
  {
   "cell_type": "code",
   "execution_count": 10,
   "metadata": {},
   "outputs": [],
   "source": [
    "DF.drop(labels = [\"2nd_Road_Number\", \"1st_Road_Number\", \"Bus_or_Coach_Passenger\", \"Towing_and_Articulation\"], axis = 1, inplace = True)"
   ]
  },
  {
   "cell_type": "markdown",
   "metadata": {},
   "source": [
    "### Drop Rows Contain Missing Values"
   ]
  },
  {
   "cell_type": "code",
   "execution_count": 11,
   "metadata": {},
   "outputs": [
    {
     "data": {
      "text/plain": [
       "(1669245, 53)"
      ]
     },
     "execution_count": 11,
     "metadata": {},
     "output_type": "execute_result"
    }
   ],
   "source": [
    "Data = DF.dropna()\n",
    "Data.shape"
   ]
  },
  {
   "cell_type": "markdown",
   "metadata": {},
   "source": [
    "### Check Histogram before and after dropna"
   ]
  },
  {
   "cell_type": "code",
   "execution_count": 12,
   "metadata": {
    "collapsed": true
   },
   "outputs": [
    {
     "name": "stderr",
     "output_type": "stream",
     "text": [
      "/Users/user/anaconda3/lib/python3.6/site-packages/ipykernel_launcher.py:3: UserWarning: To output multiple subplots, the figure containing the passed axes is being cleared\n",
      "  This is separate from the ipykernel package so we can avoid doing imports until\n"
     ]
    },
    {
     "data": {
      "text/plain": [
       "array([[<matplotlib.axes._subplots.AxesSubplot object at 0x21471da58>,\n",
       "        <matplotlib.axes._subplots.AxesSubplot object at 0x21c45f2e8>,\n",
       "        <matplotlib.axes._subplots.AxesSubplot object at 0x214721cf8>],\n",
       "       [<matplotlib.axes._subplots.AxesSubplot object at 0x214370748>,\n",
       "        <matplotlib.axes._subplots.AxesSubplot object at 0x21429e470>,\n",
       "        <matplotlib.axes._subplots.AxesSubplot object at 0x2142c8da0>],\n",
       "       [<matplotlib.axes._subplots.AxesSubplot object at 0x21c423390>,\n",
       "        <matplotlib.axes._subplots.AxesSubplot object at 0x21c455978>,\n",
       "        <matplotlib.axes._subplots.AxesSubplot object at 0x21c4559b0>],\n",
       "       [<matplotlib.axes._subplots.AxesSubplot object at 0x118a574e0>,\n",
       "        <matplotlib.axes._subplots.AxesSubplot object at 0x118a86a90>,\n",
       "        <matplotlib.axes._subplots.AxesSubplot object at 0x118ac4080>]],\n",
       "      dtype=object)"
      ]
     },
     "execution_count": 12,
     "metadata": {},
     "output_type": "execute_result"
    },
    {
     "data": {
      "image/png": "[encoded data removed]",
      "text/plain": [
       "<Figure size 1080x1440 with 12 Axes>"
      ]
     },
     "metadata": {
      "needs_background": "light"
     },
     "output_type": "display_data"
    }
   ],
   "source": [
    "# fig = plt.figure(figsize = (15,20))\n",
    "# ax = fig.gca()\n",
    "# DF.hist(ax = ax)"
   ]
  },
  {
   "cell_type": "code",
   "execution_count": 13,
   "metadata": {
    "collapsed": true
   },
   "outputs": [
    {
     "name": "stderr",
     "output_type": "stream",
     "text": [
      "/Users/user/anaconda3/lib/python3.6/site-packages/ipykernel_launcher.py:3: UserWarning: To output multiple subplots, the figure containing the passed axes is being cleared\n",
      "  This is separate from the ipykernel package so we can avoid doing imports until\n"
     ]
    },
    {
     "data": {
      "text/plain": [
       "array([[<matplotlib.axes._subplots.AxesSubplot object at 0x117042eb8>,\n",
       "        <matplotlib.axes._subplots.AxesSubplot object at 0x116d12048>,\n",
       "        <matplotlib.axes._subplots.AxesSubplot object at 0x116d425f8>],\n",
       "       [<matplotlib.axes._subplots.AxesSubplot object at 0x116d70ba8>,\n",
       "        <matplotlib.axes._subplots.AxesSubplot object at 0x11701b208>,\n",
       "        <matplotlib.axes._subplots.AxesSubplot object at 0x116de10b8>],\n",
       "       [<matplotlib.axes._subplots.AxesSubplot object at 0x116e12668>,\n",
       "        <matplotlib.axes._subplots.AxesSubplot object at 0x116e43c50>,\n",
       "        <matplotlib.axes._subplots.AxesSubplot object at 0x116e43c88>],\n",
       "       [<matplotlib.axes._subplots.AxesSubplot object at 0x116eb47b8>,\n",
       "        <matplotlib.axes._subplots.AxesSubplot object at 0x116ee5d68>,\n",
       "        <matplotlib.axes._subplots.AxesSubplot object at 0x1170be358>]],\n",
       "      dtype=object)"
      ]
     },
     "execution_count": 13,
     "metadata": {},
     "output_type": "execute_result"
    },
    {
     "data": {
      "image/png": "[encoded data removed]",
      "text/plain": [
       "<Figure size 1080x1440 with 12 Axes>"
      ]
     },
     "metadata": {
      "needs_background": "light"
     },
     "output_type": "display_data"
    }
   ],
   "source": [
    "# fig = plt.figure(figsize = (15,20))\n",
    "# ax = fig.gca()\n",
    "# Data.hist(ax = ax)\n",
    "# Distribution doesn't change a lot"
   ]
  },
  {
   "cell_type": "markdown",
   "metadata": {},
   "source": [
    "### Data Manipulating ( Discrete Variables)"
   ]
  },
  {
   "cell_type": "code",
   "execution_count": null,
   "metadata": {},
   "outputs": [],
   "source": [
    "pd.options.mode.chained_assignment = None"
   ]
  },
  {
   "cell_type": "code",
   "execution_count": 30,
   "metadata": {},
   "outputs": [],
   "source": [
    "Data.loc[:, \"Road_Type\"] = Data[\"Road_Type\"].replace(to_replace = \"\", value = \"Others\").values"
   ]
  },
  {
   "cell_type": "code",
   "execution_count": 83,
   "metadata": {},
   "outputs": [],
   "source": [
    "Data.loc[:, \"Junction_Detail\"] = Data[\"Junction_Detail\"].replace(\n",
    "    to_replace = [\"Other junction\", \"Slip road\", \"More than 4 arms (not roundabout)\",\n",
    "                  \"Mini-roundabout\", \"Data missing or out of range\"], \n",
    "    value = \"Others\").values"
   ]
  },
  {
   "cell_type": "code",
   "execution_count": 62,
   "metadata": {
    "scrolled": false
   },
   "outputs": [
    {
     "data": {
      "text/html": [
       "<div>\n",
       "<style scoped>\n",
       "    .dataframe tbody tr th:only-of-type {\n",
       "        vertical-align: middle;\n",
       "    }\n",
       "\n",
       "    .dataframe tbody tr th {\n",
       "        vertical-align: top;\n",
       "    }\n",
       "\n",
       "    .dataframe thead th {\n",
       "        text-align: right;\n",
       "    }\n",
       "</style>\n",
       "<table border=\"1\" class=\"dataframe\">\n",
       "  <thead>\n",
       "    <tr style=\"text-align: right;\">\n",
       "      <th>Pedestrian_Crossing-Human_Control</th>\n",
       "      <th>Control by other authorised person</th>\n",
       "      <th>Control by school crossing patrol</th>\n",
       "      <th>Data missing or out of range</th>\n",
       "      <th>None within 50 metres</th>\n",
       "    </tr>\n",
       "    <tr>\n",
       "      <th>LuckyOrNot</th>\n",
       "      <th></th>\n",
       "      <th></th>\n",
       "      <th></th>\n",
       "      <th></th>\n",
       "    </tr>\n",
       "  </thead>\n",
       "  <tbody>\n",
       "    <tr>\n",
       "      <th>Lucky</th>\n",
       "      <td>0.001875</td>\n",
       "      <td>0.000844</td>\n",
       "      <td>NaN</td>\n",
       "      <td>0.997280</td>\n",
       "    </tr>\n",
       "    <tr>\n",
       "      <th>UnLucky</th>\n",
       "      <td>0.003204</td>\n",
       "      <td>0.002255</td>\n",
       "      <td>0.000069</td>\n",
       "      <td>0.994472</td>\n",
       "    </tr>\n",
       "  </tbody>\n",
       "</table>\n",
       "</div>"
      ],
      "text/plain": [
       "Pedestrian_Crossing-Human_Control  Control by other authorised person  \\\n",
       "LuckyOrNot                                                              \n",
       "Lucky                                                        0.001875   \n",
       "UnLucky                                                      0.003204   \n",
       "\n",
       "Pedestrian_Crossing-Human_Control  Control by school crossing patrol  \\\n",
       "LuckyOrNot                                                             \n",
       "Lucky                                                       0.000844   \n",
       "UnLucky                                                     0.002255   \n",
       "\n",
       "Pedestrian_Crossing-Human_Control  Data missing or out of range  \\\n",
       "LuckyOrNot                                                        \n",
       "Lucky                                                       NaN   \n",
       "UnLucky                                                0.000069   \n",
       "\n",
       "Pedestrian_Crossing-Human_Control  None within 50 metres  \n",
       "LuckyOrNot                                                \n",
       "Lucky                                           0.997280  \n",
       "UnLucky                                         0.994472  "
      ]
     },
     "execution_count": 62,
     "metadata": {},
     "output_type": "execute_result"
    }
   ],
   "source": [
    "Data.groupby(\"LuckyOrNot\")[\"Pedestrian_Crossing-Human_Control\"].value_counts().unstack().divide([80527, 1588718], axis = 0)\n",
    "# None within 50 meters dominate the whole column\n",
    "Data.drop(\"Pedestrian_Crossing-Human_Control\", inplace = True)"
   ]
  },
  {
   "cell_type": "code",
   "execution_count": 78,
   "metadata": {},
   "outputs": [],
   "source": [
    "Data.loc[:, \"Did_Police_Officer_Attend_Scene_of_Accident\"] = Data[\"Did_Police_Officer_Attend_Scene_of_Accident\"].apply(lambda x : \"No\" if x not in [\"Yes\", \"No\", \"data missing\"] else x).values"
   ]
  },
  {
   "cell_type": "code",
   "execution_count": 84,
   "metadata": {
    "scrolled": true
   },
   "outputs": [],
   "source": [
    "Data.loc[:, \"Sex_of_Casualty\"] = Data[\"Sex_of_Casualty\"].apply(lambda x : \"Missing\" if x == \"Data missing or out of range\" else x).values"
   ]
  },
  {
   "cell_type": "code",
   "execution_count": 89,
   "metadata": {},
   "outputs": [],
   "source": [
    "Data.loc[:, \"Age_Band_of_Casualty\"] = Data[\"Age_Band_of_Casualty\"].apply(lambda x : \"Missing\" if x == \"\" else x).values "
   ]
  },
  {
   "cell_type": "code",
   "execution_count": 96,
   "metadata": {
    "scrolled": true
   },
   "outputs": [
    {
     "name": "stderr",
     "output_type": "stream",
     "text": [
      "/Users/user/anaconda3/lib/python3.6/site-packages/pandas/core/frame.py:3997: SettingWithCopyWarning: \n",
      "A value is trying to be set on a copy of a slice from a DataFrame\n",
      "\n",
      "See the caveats in the documentation: https://pandas.pydata.org/pandas-docs/stable/user_guide/indexing.html#returning-a-view-versus-a-copy\n",
      "  errors=errors,\n"
     ]
    }
   ],
   "source": [
    "Data.groupby(\"LuckyOrNot\")[\"Pedestrian_Location\"].value_counts().unstack().divide([80527, 1588718], axis = 0)\n",
    "# Not a Pedestrian dominate the column\n",
    "Data.drop(\"Pedestrian_Location\", axis = 1, inplace = True)"
   ]
  },
  {
   "cell_type": "code",
   "execution_count": 100,
   "metadata": {},
   "outputs": [
    {
     "name": "stderr",
     "output_type": "stream",
     "text": [
      "/Users/user/anaconda3/lib/python3.6/site-packages/pandas/core/frame.py:3997: SettingWithCopyWarning: \n",
      "A value is trying to be set on a copy of a slice from a DataFrame\n",
      "\n",
      "See the caveats in the documentation: https://pandas.pydata.org/pandas-docs/stable/user_guide/indexing.html#returning-a-view-versus-a-copy\n",
      "  errors=errors,\n"
     ]
    }
   ],
   "source": [
    "Data.groupby(\"LuckyOrNot\")[\"Pedestrian_Movement\"].value_counts().unstack().divide([80527, 1588718], axis = 0)\n",
    "# Not a Pedestrian dominate the column\n",
    "Data.drop(labels = \"Pedestrian_Movement\", axis = 1, inplace = True)"
   ]
  },
  {
   "cell_type": "code",
   "execution_count": 104,
   "metadata": {},
   "outputs": [
    {
     "name": "stderr",
     "output_type": "stream",
     "text": [
      "/Users/user/anaconda3/lib/python3.6/site-packages/pandas/core/indexing.py:966: SettingWithCopyWarning: \n",
      "A value is trying to be set on a copy of a slice from a DataFrame.\n",
      "Try using .loc[row_indexer,col_indexer] = value instead\n",
      "\n",
      "See the caveats in the documentation: https://pandas.pydata.org/pandas-docs/stable/user_guide/indexing.html#returning-a-view-versus-a-copy\n",
      "  self.obj[item] = s\n"
     ]
    }
   ],
   "source": [
    "# 前面 Pedestrian都去掉了，汽車碰撞佔了絕大多數\n",
    "Data.loc[:, \"Casualty_Type\"] = Data[\"Casualty_Type\"].apply(lambda x : \"Motorcycle or Others\" if x not in [\"Car occupant\", \"Pedestrian\",\"Cyclist\"] else x).values"
   ]
  },
  {
   "cell_type": "code",
   "execution_count": 105,
   "metadata": {
    "scrolled": true
   },
   "outputs": [
    {
     "data": {
      "text/plain": [
       "<matplotlib.axes._subplots.AxesSubplot at 0x1193e3978>"
      ]
     },
     "execution_count": 105,
     "metadata": {},
     "output_type": "execute_result"
    },
    {
     "data": {
      "image/png": "[encoded data removed]",
      "text/plain": [
       "<Figure size 432x288 with 1 Axes>"
      ]
     },
     "metadata": {
      "needs_background": "light"
     },
     "output_type": "display_data"
    }
   ],
   "source": [
    "Data[\"Casualty_Type\"].value_counts().plot.barh()"
   ]
  },
  {
   "cell_type": "code",
   "execution_count": 128,
   "metadata": {
    "scrolled": true
   },
   "outputs": [
    {
     "name": "stderr",
     "output_type": "stream",
     "text": [
      "/Users/user/anaconda3/lib/python3.6/site-packages/pandas/core/indexing.py:966: SettingWithCopyWarning: \n",
      "A value is trying to be set on a copy of a slice from a DataFrame.\n",
      "Try using .loc[row_indexer,col_indexer] = value instead\n",
      "\n",
      "See the caveats in the documentation: https://pandas.pydata.org/pandas-docs/stable/user_guide/indexing.html#returning-a-view-versus-a-copy\n",
      "  self.obj[item] = s\n"
     ]
    }
   ],
   "source": [
    "def replace_Vehicle_Manoeuvre(DataX):\n",
    "    if \"Going ahead\"in DataX[\"Vehicle_Manoeuvre\"] :\n",
    "        value = \"Going Ahead\"\n",
    "    elif \"Waiting to\" in DataX[\"Vehicle_Manoeuvre\"] :\n",
    "        value = \"Waiting\"\n",
    "    elif \"Turning\" in DataX[\"Vehicle_Manoeuvre\"] :\n",
    "        value = \"Turning\"\n",
    "    elif \"Overtaking\" in DataX[\"Vehicle_Manoeuvre\"] :\n",
    "        value = \"Overtaking\"\n",
    "    elif \"Changing lane\" in DataX[\"Vehicle_Manoeuvre\"] :\n",
    "        value = \"Changing Lane\"\n",
    "    else :\n",
    "        value = DataX[\"Vehicle_Manoeuvre\"]\n",
    "    return value\n",
    "\n",
    "Data.loc[:, \"Vehicle_Manoeuvre\"] = Data.apply(replace_Vehicle_Manoeuvre, axis = 1).values"
   ]
  },
  {
   "cell_type": "code",
   "execution_count": 131,
   "metadata": {},
   "outputs": [
    {
     "name": "stderr",
     "output_type": "stream",
     "text": [
      "/Users/user/anaconda3/lib/python3.6/site-packages/pandas/core/frame.py:3997: SettingWithCopyWarning: \n",
      "A value is trying to be set on a copy of a slice from a DataFrame\n",
      "\n",
      "See the caveats in the documentation: https://pandas.pydata.org/pandas-docs/stable/user_guide/indexing.html#returning-a-view-versus-a-copy\n",
      "  errors=errors,\n"
     ]
    }
   ],
   "source": [
    "Data.groupby(\"LuckyOrNot\")[\"Vehicle_Location-Restricted_Lane\"].value_counts().unstack().divide([80527, 1588718], axis = 0)\n",
    "# 觀測值太統一\n",
    "Data.drop(\"Vehicle_Location-Restricted_Lane\", axis = 1, inplace = True)"
   ]
  },
  {
   "cell_type": "code",
   "execution_count": 141,
   "metadata": {
    "scrolled": false
   },
   "outputs": [
    {
     "name": "stderr",
     "output_type": "stream",
     "text": [
      "/Users/user/anaconda3/lib/python3.6/site-packages/pandas/core/indexing.py:966: SettingWithCopyWarning: \n",
      "A value is trying to be set on a copy of a slice from a DataFrame.\n",
      "Try using .loc[row_indexer,col_indexer] = value instead\n",
      "\n",
      "See the caveats in the documentation: https://pandas.pydata.org/pandas-docs/stable/user_guide/indexing.html#returning-a-view-versus-a-copy\n",
      "  self.obj[item] = s\n"
     ]
    }
   ],
   "source": [
    "def Replace_Junction_Location(X):\n",
    "    if \"Approaching\" in X :\n",
    "        value = \"Approaching Junction or Near\"\n",
    "    elif \"Mid Junction\" in X :\n",
    "        value = \"in Middle\"\n",
    "    elif \"waiting\" in X :\n",
    "        value = \"Waiting or Parking\"\n",
    "    elif \"Entering\" in X:\n",
    "        value = \"Entering\"\n",
    "    elif \"Leaving\" in X :\n",
    "        value = \"Leaving\"\n",
    "    elif \"Data missing\" in X :\n",
    "        value = \"Missing\"\n",
    "    else :\n",
    "        value = X\n",
    "    return value\n",
    "\n",
    "\n",
    "Data.loc[:, \"Junction_Location\"] = Data[\"Junction_Location\"].apply(Replace_Junction_Location).values"
   ]
  },
  {
   "cell_type": "code",
   "execution_count": 145,
   "metadata": {
    "collapsed": true
   },
   "outputs": [
    {
     "name": "stderr",
     "output_type": "stream",
     "text": [
      "/Users/user/anaconda3/lib/python3.6/site-packages/pandas/core/indexing.py:966: SettingWithCopyWarning: \n",
      "A value is trying to be set on a copy of a slice from a DataFrame.\n",
      "Try using .loc[row_indexer,col_indexer] = value instead\n",
      "\n",
      "See the caveats in the documentation: https://pandas.pydata.org/pandas-docs/stable/user_guide/indexing.html#returning-a-view-versus-a-copy\n",
      "  self.obj[item] = s\n"
     ]
    }
   ],
   "source": [
    "Data.loc[:, \"1st_Point_of_Impact\"] = Data[\"1st_Point_of_Impact\"].apply(lambda x : \"Missing\" if \"Data missing\" in x else x).values"
   ]
  },
  {
   "cell_type": "code",
   "execution_count": 150,
   "metadata": {},
   "outputs": [
    {
     "name": "stderr",
     "output_type": "stream",
     "text": [
      "/Users/user/anaconda3/lib/python3.6/site-packages/pandas/core/frame.py:3997: SettingWithCopyWarning: \n",
      "A value is trying to be set on a copy of a slice from a DataFrame\n",
      "\n",
      "See the caveats in the documentation: https://pandas.pydata.org/pandas-docs/stable/user_guide/indexing.html#returning-a-view-versus-a-copy\n",
      "  errors=errors,\n"
     ]
    }
   ],
   "source": [
    "Data.groupby(\"LuckyOrNot\")[\"Was_Vehicle_Left_Hand_Drive?\"].value_counts().unstack().divide([80527, 1588718], axis = 0)\n",
    "# DROP!!!!\n",
    "Data.drop(\"Was_Vehicle_Left_Hand_Drive?\", axis = 1, inplace = True)"
   ]
  },
  {
   "cell_type": "code",
   "execution_count": 152,
   "metadata": {
    "collapsed": true
   },
   "outputs": [
    {
     "data": {
      "image/png": "[encoded data removed]",
      "text/plain": [
       "<Figure size 432x288 with 1 Axes>"
      ]
     },
     "metadata": {
      "needs_background": "light"
     },
     "output_type": "display_data"
    }
   ],
   "source": [
    "Data[\"Journey_Purpose_of_Driver\"].value_counts().sort_values().plot.barh()\n",
    "# 不知所以然的東西佔大多數？？？？\n",
    "Data.drop(\"Journey_Purpose_of_Driver\", axis = 1, inplace = True)b"
   ]
  },
  {
   "cell_type": "code",
   "execution_count": 154,
   "metadata": {
    "collapsed": true
   },
   "outputs": [
    {
     "name": "stderr",
     "output_type": "stream",
     "text": [
      "/Users/user/anaconda3/lib/python3.6/site-packages/pandas/core/indexing.py:966: SettingWithCopyWarning: \n",
      "A value is trying to be set on a copy of a slice from a DataFrame.\n",
      "Try using .loc[row_indexer,col_indexer] = value instead\n",
      "\n",
      "See the caveats in the documentation: https://pandas.pydata.org/pandas-docs/stable/user_guide/indexing.html#returning-a-view-versus-a-copy\n",
      "  self.obj[item] = s\n"
     ]
    }
   ],
   "source": [
    "Data.loc[:, \"Sex_of_Driver\"] = Data[\"Sex_of_Driver\"].apply(lambda x : x if x in [\"Male\", \"Female\"] else \"Others or Missing\").values"
   ]
  },
  {
   "cell_type": "code",
   "execution_count": 164,
   "metadata": {
    "collapsed": true
   },
   "outputs": [
    {
     "name": "stderr",
     "output_type": "stream",
     "text": [
      "/Users/user/anaconda3/lib/python3.6/site-packages/pandas/core/indexing.py:966: SettingWithCopyWarning: \n",
      "A value is trying to be set on a copy of a slice from a DataFrame.\n",
      "Try using .loc[row_indexer,col_indexer] = value instead\n",
      "\n",
      "See the caveats in the documentation: https://pandas.pydata.org/pandas-docs/stable/user_guide/indexing.html#returning-a-view-versus-a-copy\n",
      "  self.obj[item] = s\n"
     ]
    }
   ],
   "source": [
    "Data.loc[:, \"Propulsion_Code\"] = Data[\"Propulsion_Code\"].apply(lambda x : x if x in [\"1.0\", \"2.0\"] else \"Others\").values"
   ]
  },
  {
   "cell_type": "code",
   "execution_count": 179,
   "metadata": {},
   "outputs": [],
   "source": [
    "Data.drop(\"Diff_ASCS\", axis = 1, inplace = True)"
   ]
  },
  {
   "cell_type": "code",
   "execution_count": 180,
   "metadata": {
    "scrolled": true
   },
   "outputs": [
    {
     "data": {
      "text/plain": [
       "Accident_Severity                               object\n",
       "Number_of_Vehicles                               int32\n",
       "Number_of_Casualties                             int32\n",
       "Day_of_Week                                     object\n",
       "1st_Road_Class                                  object\n",
       "Road_Type                                       object\n",
       "Speed_limit                                      int32\n",
       "Junction_Detail                                 object\n",
       "Junction_Control                                object\n",
       "2nd_Road_Class                                  object\n",
       "Pedestrian_Crossing-Human_Control               object\n",
       "Pedestrian_Crossing-Physical_Facilities         object\n",
       "Light_Conditions                                object\n",
       "Weather_Conditions                              object\n",
       "Road_Surface_Conditions                         object\n",
       "Special_Conditions_at_Site                      object\n",
       "Carriageway_Hazards                             object\n",
       "Urban_or_Rural_Area                             object\n",
       "Did_Police_Officer_Attend_Scene_of_Accident     object\n",
       "Casualty_Class                                  object\n",
       "Sex_of_Casualty                                 object\n",
       "Age_of_Casualty                                float64\n",
       "Age_Band_of_Casualty                            object\n",
       "Casualty_Severity                               object\n",
       "Car_Passenger                                  float64\n",
       "Pedestrian_Road_Maintenance_Worker              object\n",
       "Casualty_Type                                   object\n",
       "Casualty_Home_Area_Type                         object\n",
       "Vehicle_Type                                    object\n",
       "Vehicle_Manoeuvre                               object\n",
       "Junction_Location                               object\n",
       "Skidding_and_Overturning                        object\n",
       "Hit_Object_in_Carriageway                       object\n",
       "Vehicle_Leaving_Carriageway                     object\n",
       "Hit_Object_off_Carriageway                      object\n",
       "1st_Point_of_Impact                             object\n",
       "Sex_of_Driver                                   object\n",
       "Age_of_Driver                                  float64\n",
       "Age_Band_of_Driver                              object\n",
       "Engine_Capacity_(CC)                           float64\n",
       "Propulsion_Code                                 object\n",
       "Age_of_Vehicle                                 float64\n",
       "Driver_IMD_Decile                               object\n",
       "Driver_Home_Area_Type                           object\n",
       "LuckyOrNot                                      object\n",
       "dtype: object"
      ]
     },
     "execution_count": 180,
     "metadata": {},
     "output_type": "execute_result"
    }
   ],
   "source": [
    "Data.dtypes"
   ]
  },
  {
   "cell_type": "code",
   "execution_count": 181,
   "metadata": {},
   "outputs": [
    {
     "data": {
      "text/plain": [
       "(1669245, 45)"
      ]
     },
     "execution_count": 181,
     "metadata": {},
     "output_type": "execute_result"
    }
   ],
   "source": [
    "Data.shape"
   ]
  },
  {
   "cell_type": "code",
   "execution_count": 182,
   "metadata": {},
   "outputs": [],
   "source": [
    "Data.to_csv(\"/Users/user/Desktop/自動化/Data_For_Model.csv\", index = False)"
   ]
  },
  {
   "cell_type": "code",
   "execution_count": null,
   "metadata": {},
   "outputs": [],
   "source": []
  }
 ],
 "metadata": {
  "kernelspec": {
   "display_name": "Python 3",
   "language": "python",
   "name": "python3"
  },
  "language_info": {
   "codemirror_mode": {
    "name": "ipython",
    "version": 3
   },
   "file_extension": ".py",
   "mimetype": "text/x-python",
   "name": "python",
   "nbconvert_exporter": "python",
   "pygments_lexer": "ipython3",
   "version": "3.6.8"
  }
 },
 "nbformat": 4,
 "nbformat_minor": 4
}
